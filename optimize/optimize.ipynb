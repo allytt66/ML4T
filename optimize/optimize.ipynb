{
 "cells": [
  {
   "cell_type": "code",
   "execution_count": 9,
   "metadata": {},
   "outputs": [],
   "source": [
    "import datetime as dt  \t\t  \t   \t\t  \t  \t\t\t  \t\t \t\t\t \t \t \t\t \t\t \t \t\t \t\t \t \t\t  \t \t \t\t\t  \t \n",
    "  \t\t  \t   \t\t  \t  \t\t\t  \t\t \t\t\t \t \t \t\t \t\t \t \t\t \t\t \t \t\t  \t \t \t\t\t  \t \n",
    "import numpy as np  \t\t  \t   \t\t  \t  \t\t\t  \t\t \t\t\t \t \t \t\t \t\t \t \t\t \t\t \t \t\t  \t \t \t\t\t  \t \n",
    "  \t\t  \t   \t\t  \t  \t\t\t  \t\t \t\t\t \t \t \t\t \t\t \t \t\t \t\t \t \t\t  \t \t \t\t\t  \t \n",
    "import matplotlib.pyplot as plt  \t\t  \t   \t\t  \t  \t\t\t  \t\t \t\t\t \t \t \t\t \t\t \t \t\t \t\t \t \t\t  \t \t \t\t\t  \t \n",
    "import pandas as pd  \t\t  \t   \t\t  \t  \t\t\t  \t\t \t\t\t \t \t \t\t \t\t \t \t\t \t\t \t \t\t  \t \t \t\t\t  \t \n",
    "from util import get_data, plot_data  \t\n",
    "from scipy.optimize import minimize\t  "
   ]
  },
  {
   "cell_type": "code",
   "execution_count": 24,
   "metadata": {},
   "outputs": [],
   "source": [
    "sd=dt.datetime(2008, 1, 1) \t\t  \t   \t\t  \t  \t\t\t  \t\t \t\t\t \t \t \t\t \t\t \t \t\t \t\t \t \t\t  \t \t \t\t\t  \t \n",
    "ed=dt.datetime(2009, 1, 1)\t  \t   \t\t  \t  \t\t\t  \t\t \t\t\t \t \t \t\t \t\t \t \t\t \t\t \t \t\t  \t \t \t\t\t  \t \n",
    "syms=[\"GOOG\", \"AAPL\", \"GLD\", \"XOM\"] \t\t  \t   \t\t  \t  \t\t\t  \t\t \t\t\t \t \t \t\t \t\t \t \t\t \t\t \t \t\t  \t \t \t\t\t  \t \n",
    "gen_plot=False"
   ]
  },
  {
   "cell_type": "code",
   "execution_count": 25,
   "metadata": {},
   "outputs": [],
   "source": [
    "dates = pd.date_range(sd, ed)  \t\t  \t   \t\t  \t  \t\t\t  \t\t \t\t\t \t \t \t\t \t\t \t \t\t \t\t \t \t\t  \t \t \t\t\t  \t \n",
    "prices_all = get_data(syms, dates)  # automatically adds SPY  \t\t  \t   \t\t  \t  \t\t\t  \t\t \t\t\t \t \t \t\t \t\t \t \t\t \t\t \t \t\t  \t \t \t\t\t  \t \n",
    "prices = prices_all[syms]  # only portfolio symbols  \t\t  \t   \t\t  \t  \t\t\t  \t\t \t\t\t \t \t \t\t \t\t \t \t\t \t\t \t \t\t  \t \t \t\t\t  \t \n",
    "prices_SPY = prices_all[\"SPY\"] "
   ]
  },
  {
   "cell_type": "code",
   "execution_count": 26,
   "metadata": {},
   "outputs": [],
   "source": [
    "def get_risk(prices): \n",
    "    return (prices/prices.shift(1) - 1).dropna().std()\n",
    "\n",
    "def get_return(prices): \n",
    "    return (prices/prices.shift(1) - 1).dropna().mean()"
   ]
  },
  {
   "cell_type": "code",
   "execution_count": 27,
   "metadata": {},
   "outputs": [],
   "source": [
    "risk_d = get_risk(prices_all)\n",
    "return_d = get_return(prices_all)"
   ]
  },
  {
   "cell_type": "code",
   "execution_count": 28,
   "metadata": {},
   "outputs": [
    {
     "data": {
      "image/png": "[encoded data removed]",
      "text/plain": [
       "<Figure size 432x288 with 1 Axes>"
      ]
     },
     "metadata": {
      "needs_background": "light"
     },
     "output_type": "display_data"
    }
   ],
   "source": [
    "fig, ax = plt.subplots()\n",
    "ax.scatter(x=risk_d, y=return_d, alpha=0.5)\n",
    "ax.set(title='Risk and Return', xlabel = 'Risk', ylabel='Return')\n",
    "\n",
    "for i, sym in enumerate(syms): \n",
    "    ax.annotate(sym, (risk_d[i], return_d[i]))"
   ]
  },
  {
   "cell_type": "code",
   "execution_count": 29,
   "metadata": {},
   "outputs": [],
   "source": [
    "def random_alloc(n): \n",
    "    alloc = np.random.rand(n)\n",
    "    return alloc/sum(alloc)\n",
    "\n",
    "def get_port_risk(alloc, normed): \n",
    "    port_val = (alloc * normed).sum(axis=1)\n",
    "    return get_risk(port_val)\n",
    "\n",
    "def get_port_return(alloc, normed): \n",
    "    port_val = (alloc * normed).sum(axis=1)\n",
    "    return get_return(port_val)"
   ]
  },
  {
   "cell_type": "code",
   "execution_count": 30,
   "metadata": {},
   "outputs": [
    {
     "data": {
      "image/png": "[encoded data removed]",
      "text/plain": [
       "<Figure size 432x288 with 1 Axes>"
      ]
     },
     "metadata": {
      "needs_background": "light"
     },
     "output_type": "display_data"
    }
   ],
   "source": [
    "risk_all = np.array([])\n",
    "return_all = np.array([])\n",
    "\n",
    "np.random.seed(0)\n",
    "for _ in range(0, 1000): \n",
    "    alloc = random_alloc(len(syms))\n",
    "    port_val = (alloc * normed).sum(axis=1)\n",
    "    risk = get_risk(port_val)\n",
    "    ret = get_return(port_val)\n",
    "    risk_all = np.append(risk_all, risk)\n",
    "    return_all = np.append(return_all, ret)\n",
    "    port_risk = get_port_risk(alloc, normed)\n",
    "\n",
    "fig, ax = plt.subplots()\n",
    "ax.scatter(x = risk_all, y = return_all, alpha=0.5)\n",
    "ax.set(title ='Risk and Return', xlabel = 'Risk', ylabel='Return')\n",
    "\n",
    "for i, sym in enumerate(syms): \n",
    "    ax.annotate(sym, (risk_d[i], return_d[i]))\n",
    "ax.scatter(x=risk_d, y=return_d, alpha=0.5, color='red')\n",
    "ax.set(title='Risk and Return',  xlabel = 'Risk', ylabel='Return')\n",
    "ax.grid()"
   ]
  },
  {
   "cell_type": "code",
   "execution_count": 31,
   "metadata": {},
   "outputs": [],
   "source": [
    "def optimize(prices, symbols, target_return=0.1):\n",
    "    normalized_prices = prices / prices.ix[0, :]\n",
    "    init_guess = np.ones(len(symbols)) * (1.0 / len(symbols))\n",
    "    bounds = ((0.0, 1.0),) * len(symbols)\n",
    "    weights = minimize(get_port_risk, init_guess,\n",
    "                       args=(normalized_prices,), method='SLSQP',\n",
    "                       options={'disp': False},\n",
    "                       constraints=({'type': 'eq', 'fun': lambda inputs: 1.0 - np.sum(inputs)},\n",
    "                                    {'type': 'eq', 'args': (normalized_prices,),\n",
    "                                     'fun': lambda inputs, normalized_prices: target_return - get_port_return(inputs,normalized_prices)}),\n",
    "                       bounds=bounds)\n",
    "    return weights.x"
   ]
  },
  {
   "cell_type": "code",
   "execution_count": 36,
   "metadata": {},
   "outputs": [],
   "source": [
    "def optimize(prices, symbols, target_return=0.1):\n",
    "    normalized_prices = prices / prices.ix[0, :]\n",
    "    init_guess = np.ones(len(symbols)) * (1.0 / len(symbols))\n",
    "    bounds = ((0.0, 1.0),) * len(symbols)\n",
    "    weights = minimize(get_port_risk, init_guess,\n",
    "                       args=(normalized_prices,), method='SLSQP',\n",
    "                       options={'disp': False},\n",
    "                       constraints=({'type': 'eq', 'fun': lambda inputs: 1.0 - np.sum(inputs)},\n",
    "                        ),\n",
    "                       bounds=bounds)\n",
    "    return weights.x"
   ]
  },
  {
   "cell_type": "code",
   "execution_count": 37,
   "metadata": {},
   "outputs": [
    {
     "name": "stderr",
     "output_type": "stream",
     "text": [
      "/Users/Ally.Zhang/Documents/VS Code/.venv/lib/python3.6/site-packages/ipykernel_launcher.py:2: DeprecationWarning: \n",
      ".ix is deprecated. Please use\n",
      ".loc for label based indexing or\n",
      ".iloc for positional indexing\n",
      "\n",
      "See the documentation here:\n",
      "http://pandas.pydata.org/pandas-docs/stable/indexing.html#ix-indexer-is-deprecated\n",
      "  \n"
     ]
    },
    {
     "data": {
      "text/plain": [
       "array([0.20793355, 0.20756062, 0.58450582, 0.        ])"
      ]
     },
     "execution_count": 37,
     "metadata": {},
     "output_type": "execute_result"
    }
   ],
   "source": [
    "optimize(prices=prices, symbols=syms, target_return=0.04)"
   ]
  },
  {
   "cell_type": "code",
   "execution_count": 45,
   "metadata": {},
   "outputs": [
    {
     "data": {
      "text/html": [
       "<div>\n",
       "<style scoped>\n",
       "    .dataframe tbody tr th:only-of-type {\n",
       "        vertical-align: middle;\n",
       "    }\n",
       "\n",
       "    .dataframe tbody tr th {\n",
       "        vertical-align: top;\n",
       "    }\n",
       "\n",
       "    .dataframe thead th {\n",
       "        text-align: right;\n",
       "    }\n",
       "</style>\n",
       "<table border=\"1\" class=\"dataframe\">\n",
       "  <thead>\n",
       "    <tr style=\"text-align: right;\">\n",
       "      <th></th>\n",
       "      <th>GOOG</th>\n",
       "      <th>AAPL</th>\n",
       "      <th>GLD</th>\n",
       "      <th>XOM</th>\n",
       "    </tr>\n",
       "  </thead>\n",
       "  <tbody>\n",
       "    <tr>\n",
       "      <th>2008-01-02</th>\n",
       "      <td>1.000000</td>\n",
       "      <td>1.000000</td>\n",
       "      <td>1.000000</td>\n",
       "      <td>1.000000</td>\n",
       "    </tr>\n",
       "    <tr>\n",
       "      <th>2008-01-03</th>\n",
       "      <td>1.000204</td>\n",
       "      <td>1.000464</td>\n",
       "      <td>1.008367</td>\n",
       "      <td>1.003467</td>\n",
       "    </tr>\n",
       "    <tr>\n",
       "      <th>2008-01-04</th>\n",
       "      <td>0.958858</td>\n",
       "      <td>0.924076</td>\n",
       "      <td>1.003182</td>\n",
       "      <td>0.984698</td>\n",
       "    </tr>\n",
       "    <tr>\n",
       "      <th>2008-01-07</th>\n",
       "      <td>0.947547</td>\n",
       "      <td>0.911706</td>\n",
       "      <td>0.998939</td>\n",
       "      <td>0.975613</td>\n",
       "    </tr>\n",
       "    <tr>\n",
       "      <th>2008-01-08</th>\n",
       "      <td>0.921905</td>\n",
       "      <td>0.878924</td>\n",
       "      <td>1.022626</td>\n",
       "      <td>0.963060</td>\n",
       "    </tr>\n",
       "  </tbody>\n",
       "</table>\n",
       "</div>"
      ],
      "text/plain": [
       "                GOOG      AAPL       GLD       XOM\n",
       "2008-01-02  1.000000  1.000000  1.000000  1.000000\n",
       "2008-01-03  1.000204  1.000464  1.008367  1.003467\n",
       "2008-01-04  0.958858  0.924076  1.003182  0.984698\n",
       "2008-01-07  0.947547  0.911706  0.998939  0.975613\n",
       "2008-01-08  0.921905  0.878924  1.022626  0.963060"
      ]
     },
     "execution_count": 45,
     "metadata": {},
     "output_type": "execute_result"
    }
   ],
   "source": [
    "normed.head(5)"
   ]
  },
  {
   "cell_type": "code",
   "execution_count": 46,
   "metadata": {},
   "outputs": [
    {
     "data": {
      "text/plain": [
       "['GOOG', 'AAPL', 'GLD', 'XOM']"
      ]
     },
     "execution_count": 46,
     "metadata": {},
     "output_type": "execute_result"
    }
   ],
   "source": [
    "syms"
   ]
  },
  {
   "cell_type": "code",
   "execution_count": 44,
   "metadata": {},
   "outputs": [
    {
     "data": {
      "text/html": [
       "<div>\n",
       "<style scoped>\n",
       "    .dataframe tbody tr th:only-of-type {\n",
       "        vertical-align: middle;\n",
       "    }\n",
       "\n",
       "    .dataframe tbody tr th {\n",
       "        vertical-align: top;\n",
       "    }\n",
       "\n",
       "    .dataframe thead th {\n",
       "        text-align: right;\n",
       "    }\n",
       "</style>\n",
       "<table border=\"1\" class=\"dataframe\">\n",
       "  <thead>\n",
       "    <tr style=\"text-align: right;\">\n",
       "      <th></th>\n",
       "      <th>GOOG</th>\n",
       "      <th>AAPL</th>\n",
       "      <th>GLD</th>\n",
       "      <th>XOM</th>\n",
       "    </tr>\n",
       "  </thead>\n",
       "  <tbody>\n",
       "    <tr>\n",
       "      <th>2008-01-02</th>\n",
       "      <td>685.19</td>\n",
       "      <td>194.01</td>\n",
       "      <td>84.86</td>\n",
       "      <td>83.65</td>\n",
       "    </tr>\n",
       "    <tr>\n",
       "      <th>2008-01-03</th>\n",
       "      <td>685.33</td>\n",
       "      <td>194.10</td>\n",
       "      <td>85.57</td>\n",
       "      <td>83.94</td>\n",
       "    </tr>\n",
       "    <tr>\n",
       "      <th>2008-01-04</th>\n",
       "      <td>657.00</td>\n",
       "      <td>179.28</td>\n",
       "      <td>85.13</td>\n",
       "      <td>82.37</td>\n",
       "    </tr>\n",
       "    <tr>\n",
       "      <th>2008-01-07</th>\n",
       "      <td>649.25</td>\n",
       "      <td>176.88</td>\n",
       "      <td>84.77</td>\n",
       "      <td>81.61</td>\n",
       "    </tr>\n",
       "    <tr>\n",
       "      <th>2008-01-08</th>\n",
       "      <td>631.68</td>\n",
       "      <td>170.52</td>\n",
       "      <td>86.78</td>\n",
       "      <td>80.56</td>\n",
       "    </tr>\n",
       "  </tbody>\n",
       "</table>\n",
       "</div>"
      ],
      "text/plain": [
       "              GOOG    AAPL    GLD    XOM\n",
       "2008-01-02  685.19  194.01  84.86  83.65\n",
       "2008-01-03  685.33  194.10  85.57  83.94\n",
       "2008-01-04  657.00  179.28  85.13  82.37\n",
       "2008-01-07  649.25  176.88  84.77  81.61\n",
       "2008-01-08  631.68  170.52  86.78  80.56"
      ]
     },
     "execution_count": 44,
     "metadata": {},
     "output_type": "execute_result"
    }
   ],
   "source": [
    "prices.head(5)"
   ]
  },
  {
   "cell_type": "code",
   "execution_count": 33,
   "metadata": {},
   "outputs": [
    {
     "data": {
      "text/plain": [
       "array([nan, nan, nan, nan])"
      ]
     },
     "execution_count": 33,
     "metadata": {},
     "output_type": "execute_result"
    }
   ],
   "source": [
    "opt_w"
   ]
  },
  {
   "cell_type": "code",
   "execution_count": 106,
   "metadata": {},
   "outputs": [
    {
     "name": "stderr",
     "output_type": "stream",
     "text": [
      "/Users/Ally.Zhang/Documents/VS Code/.venv/lib/python3.6/site-packages/ipykernel_launcher.py:2: DeprecationWarning: \n",
      ".ix is deprecated. Please use\n",
      ".loc for label based indexing or\n",
      ".iloc for positional indexing\n",
      "\n",
      "See the documentation here:\n",
      "http://pandas.pydata.org/pandas-docs/stable/indexing.html#ix-indexer-is-deprecated\n",
      "  \n"
     ]
    }
   ],
   "source": [
    "optimal_risk_all = np.array([])\n",
    "optimal_return_all = np.array([])\n",
    "for target_return in np.arange(0.005, 0.020, .001):\n",
    "    opt_w = optimize(prices=prices, symbols=syms, target_return=target_return)\n",
    "    optimal_risk_all = np.append(optimal_risk_all, get_port_risk(opt_w, normed))\n",
    "    optimal_return_all = np.append(optimal_return_all, get_port_risk(opt_w, normed))"
   ]
  },
  {
   "cell_type": "code",
   "execution_count": 111,
   "metadata": {},
   "outputs": [
    {
     "data": {
      "image/png": "[encoded data removed]",
      "text/plain": [
       "<Figure size 432x288 with 1 Axes>"
      ]
     },
     "metadata": {
      "needs_background": "light"
     },
     "output_type": "display_data"
    }
   ],
   "source": [
    "fig, ax = plt.subplots()\n",
    "ax.scatter(x=risk_all, y=return_all, alpha=0.5)\n",
    "\n",
    "for i, symbol in enumerate(syms):\n",
    "    ax.annotate(symbol, (risk_d[i], return_d[i]))\n",
    "ax.plot(optimal_risk_all, optimal_return_all, '-', color='green')\n",
    "\n",
    "for i, symbol in enumerate(syms):\n",
    "    ax.annotate(symbol, (risk_d[i], return_d[i]))\n",
    "ax.scatter(x=risk_d, y=return_d, color='red')\n",
    "ax.set(title='Efficient Frontier', xlabel='Risk', ylabel='Return')\n",
    "ax.grid()\n",
    "\n",
    "plt.show()\n",
    "# plt.savefig('return_risk_efficient_frontier.png', bbox_inches='tight')"
   ]
  },
  {
   "cell_type": "code",
   "execution_count": 57,
   "metadata": {},
   "outputs": [],
   "source": [
    "def compute_daily_returns(df): \n",
    "    daily_returns = df.copy()\n",
    "    daily_returns[1:] = (df[1:] / df[:-1].values) - 1 \n",
    "    daily_returns.iloc[0] = 0 \n",
    "    return daily_returns"
   ]
  },
  {
   "cell_type": "code",
   "execution_count": 38,
   "metadata": {},
   "outputs": [],
   "source": [
    "allocs = np.asarray([0.2, 0.2, 0.3, 0.3])\n",
    "normed = prices/prices.iloc[0]\n",
    "alloced = normed * allocs\n",
    "port_val = alloced.sum(axis=1)"
   ]
  },
  {
   "cell_type": "code",
   "execution_count": null,
   "metadata": {},
   "outputs": [],
   "source": [
    "daily_rets = compute_daily_returns(port_val)"
   ]
  },
  {
   "cell_type": "code",
   "execution_count": 60,
   "metadata": {},
   "outputs": [],
   "source": [
    "daily_rets = daily_rets[1:]\n",
    "cum_ret = (port_val[-1]/port_val[0] - 1)"
   ]
  },
  {
   "cell_type": "code",
   "execution_count": 62,
   "metadata": {},
   "outputs": [],
   "source": [
    "import scipy.optimize as spo "
   ]
  },
  {
   "cell_type": "code",
   "execution_count": 47,
   "metadata": {},
   "outputs": [],
   "source": [
    "def compute_daily_returns(df):\n",
    "\tdaily_returns = df.copy()\n",
    "\tdaily_returns[1:] = (df[1:] / df[:-1].values) - 1\n",
    "\tdaily_returns.iloc[0, :] = 0 \n",
    "\treturn daily_returns\n"
   ]
  },
  {
   "cell_type": "code",
   "execution_count": 67,
   "metadata": {},
   "outputs": [],
   "source": [
    "def get_sr(allocs, normed): \n",
    "    pos_vals = normed * allocs\n",
    "    port_val = pos_vals.sum(axis=1)\n",
    "    daily_rets = compute_daily_returns(pd.DataFrame(port_val))\n",
    "    daily_rets = daily_rets[1:]\n",
    "    sr =  - np.mean(daily_rets) / np.std(daily_rets)\t\n",
    "    return sr"
   ]
  },
  {
   "cell_type": "code",
   "execution_count": 87,
   "metadata": {},
   "outputs": [
    {
     "data": {
      "text/plain": [
       "2.5980762113533165"
      ]
     },
     "execution_count": 87,
     "metadata": {},
     "output_type": "execute_result"
    }
   ],
   "source": [
    "np.sqrt(75) * 0.003/0.01"
   ]
  },
  {
   "cell_type": "code",
   "execution_count": 52,
   "metadata": {},
   "outputs": [],
   "source": [
    "allocs = np.array([0.25, 0.25,0.25,0.25])\n",
    "pos_vals = normed * allocs"
   ]
  },
  {
   "cell_type": "code",
   "execution_count": 62,
   "metadata": {},
   "outputs": [],
   "source": [
    "daily_return = compute_daily_returns(pd.DataFrame(pos_vals.sum(axis=1)))"
   ]
  },
  {
   "cell_type": "code",
   "execution_count": 61,
   "metadata": {},
   "outputs": [
    {
     "data": {
      "text/plain": [
       "0    0.060324\n",
       "dtype: float64"
      ]
     },
     "execution_count": 61,
     "metadata": {},
     "output_type": "execute_result"
    }
   ],
   "source": [
    "get_sr(np.array([0.25, 0.25,0.25,0.25]), normed)"
   ]
  },
  {
   "cell_type": "code",
   "execution_count": 20,
   "metadata": {},
   "outputs": [
    {
     "data": {
      "text/html": [
       "<div>\n",
       "<style scoped>\n",
       "    .dataframe tbody tr th:only-of-type {\n",
       "        vertical-align: middle;\n",
       "    }\n",
       "\n",
       "    .dataframe tbody tr th {\n",
       "        vertical-align: top;\n",
       "    }\n",
       "\n",
       "    .dataframe thead th {\n",
       "        text-align: right;\n",
       "    }\n",
       "</style>\n",
       "<table border=\"1\" class=\"dataframe\">\n",
       "  <thead>\n",
       "    <tr style=\"text-align: right;\">\n",
       "      <th></th>\n",
       "      <th>GOOG</th>\n",
       "      <th>AAPL</th>\n",
       "      <th>GLD</th>\n",
       "      <th>XOM</th>\n",
       "    </tr>\n",
       "  </thead>\n",
       "  <tbody>\n",
       "    <tr>\n",
       "      <th>2008-01-02</th>\n",
       "      <td>1.000000</td>\n",
       "      <td>1.000000</td>\n",
       "      <td>1.000000</td>\n",
       "      <td>1.000000</td>\n",
       "    </tr>\n",
       "    <tr>\n",
       "      <th>2008-01-03</th>\n",
       "      <td>1.000204</td>\n",
       "      <td>1.000464</td>\n",
       "      <td>1.008367</td>\n",
       "      <td>1.003467</td>\n",
       "    </tr>\n",
       "    <tr>\n",
       "      <th>2008-01-04</th>\n",
       "      <td>0.958858</td>\n",
       "      <td>0.924076</td>\n",
       "      <td>1.003182</td>\n",
       "      <td>0.984698</td>\n",
       "    </tr>\n",
       "    <tr>\n",
       "      <th>2008-01-07</th>\n",
       "      <td>0.947547</td>\n",
       "      <td>0.911706</td>\n",
       "      <td>0.998939</td>\n",
       "      <td>0.975613</td>\n",
       "    </tr>\n",
       "    <tr>\n",
       "      <th>2008-01-08</th>\n",
       "      <td>0.921905</td>\n",
       "      <td>0.878924</td>\n",
       "      <td>1.022626</td>\n",
       "      <td>0.963060</td>\n",
       "    </tr>\n",
       "  </tbody>\n",
       "</table>\n",
       "</div>"
      ],
      "text/plain": [
       "                GOOG      AAPL       GLD       XOM\n",
       "2008-01-02  1.000000  1.000000  1.000000  1.000000\n",
       "2008-01-03  1.000204  1.000464  1.008367  1.003467\n",
       "2008-01-04  0.958858  0.924076  1.003182  0.984698\n",
       "2008-01-07  0.947547  0.911706  0.998939  0.975613\n",
       "2008-01-08  0.921905  0.878924  1.022626  0.963060"
      ]
     },
     "execution_count": 20,
     "metadata": {},
     "output_type": "execute_result"
    }
   ],
   "source": [
    "normed.head()"
   ]
  },
  {
   "cell_type": "code",
   "execution_count": 68,
   "metadata": {},
   "outputs": [],
   "source": [
    "def optimize(normed_prices, symbols):\n",
    "    init_guess = np.ones(len(symbols)) * (1.0 / len(symbols))\n",
    "    bounds = ((0.0, 1.0),) * len(symbols)\n",
    "    weights = minimize(get_sr, init_guess,\n",
    "                       args=(normed_prices,), method='SLSQP',\n",
    "                       options={'disp': False},\n",
    "                       constraints=({'type': 'eq', 'fun': lambda inputs: 1.0 - np.sum(inputs)}),\n",
    "                       bounds=bounds)\n",
    "    return weights.x"
   ]
  },
  {
   "cell_type": "code",
   "execution_count": 69,
   "metadata": {},
   "outputs": [],
   "source": [
    "sd=dt.datetime(2008, 1, 1)  \t\t  \t   \t\t  \t  \t\t\t  \t\t \t\t\t \t \t \t\t \t\t \t \t\t \t\t \t \t\t  \t \t \t\t\t  \t \n",
    "ed=dt.datetime(2009, 1, 1)  \t   \t\t  \t  \t\t\t  \t\t \t\t\t \t \t \t\t \t\t \t \t\t \t\t \t \t\t  \t \t \t\t\t  \t \n",
    "syms=[\"GOOG\", \"AAPL\", \"GLD\", \"XOM\"]\n",
    "\n",
    "dates = pd.date_range(sd, ed)  \t\t  \t   \t\t  \t  \t\t\t  \t\t \t\t\t \t \t \t\t \t\t \t \t\t \t\t \t \t\t  \t \t \t\t\t  \t \n",
    "prices_all = get_data(syms, dates)  \t\t  \t   \t\t  \t  \t\t\t  \t\t \t\t\t \t \t \t\t \t\t \t \t\t \t\t \t \t\t  \t \t \t\t\t  \t \n",
    "prices = prices_all[syms] \t\t  \t   \t\t  \t  \t\t\t  \t\t \t\t\t \t \t \t\t \t\t \t \t\t \t\t \t \t\t  \t \t \t\t\t  \t \n",
    "prices_SPY = prices_all[\"SPY\"] \n"
   ]
  },
  {
   "cell_type": "code",
   "execution_count": 71,
   "metadata": {},
   "outputs": [],
   "source": [
    "normed = prices/prices.iloc[0]\n",
    "allocs = optimize(normed_prices=normed, symbols=syms)\n",
    "port_val = (allocs * prices).sum(axis=1)"
   ]
  },
  {
   "cell_type": "code",
   "execution_count": 77,
   "metadata": {},
   "outputs": [],
   "source": [
    "df_temp = pd.concat(  \t\t  \t   \t\t  \t  \t\t\t  \t\t \t\t\t \t \t \t\t \t\t \t \t\t \t\t \t \t\t  \t \t \t\t\t  \t \n",
    "[port_val, prices_SPY], keys=[\"Portfolio\", \"SPY\"], axis=1  \t\t  \t   \t\t  \t  \t\t\t  \t\t \t\t\t \t \t \t\t \t)  "
   ]
  },
  {
   "cell_type": "code",
   "execution_count": 80,
   "metadata": {},
   "outputs": [],
   "source": [
    "df = df_temp/df_temp.iloc[0]"
   ]
  },
  {
   "cell_type": "code",
   "execution_count": 85,
   "metadata": {},
   "outputs": [],
   "source": [
    "def plot_data(df, title=\"Normalized Portfolio Value vs SPY\"):\n",
    "   \n",
    "    ax = df.plot(title=title, fontsize=12)\n",
    "    ax.set_xlabel(\"Date\")\n",
    "    ax.set_ylabel(\"Price\")\n",
    "    ax.yaxis.grid(color='gray', linestyle='dashed')\n",
    "    ax.xaxis.grid(color='gray', linestyle='dashed')\n",
    "    plt.show()"
   ]
  },
  {
   "cell_type": "code",
   "execution_count": 86,
   "metadata": {},
   "outputs": [
    {
     "data": {
      "image/png": "[encoded data removed]",
      "text/plain": [
       "<Figure size 432x288 with 1 Axes>"
      ]
     },
     "metadata": {
      "needs_background": "light"
     },
     "output_type": "display_data"
    }
   ],
   "source": [
    "plot_data(df)"
   ]
  },
  {
   "cell_type": "code",
   "execution_count": null,
   "metadata": {},
   "outputs": [],
   "source": []
  }
 ],
 "metadata": {
  "kernelspec": {
   "display_name": ".venv",
   "language": "python",
   "name": "python3"
  },
  "language_info": {
   "codemirror_mode": {
    "name": "ipython",
    "version": 3
   },
   "file_extension": ".py",
   "mimetype": "text/x-python",
   "name": "python",
   "nbconvert_exporter": "python",
   "pygments_lexer": "ipython3",
   "version": "3.6.8"
  },
  "orig_nbformat": 4
 },
 "nbformat": 4,
 "nbformat_minor": 2
}
