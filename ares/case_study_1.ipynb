{
 "cells": [
  {
   "cell_type": "code",
   "execution_count": 1,
   "metadata": {},
   "outputs": [],
   "source": [
    "import pandas as pd\n",
    "import numpy as np\n",
    "import datetime as dt\n",
    "import matplotlib.pyplot as plt"
   ]
  },
  {
   "cell_type": "code",
   "execution_count": 2,
   "metadata": {},
   "outputs": [],
   "source": [
    "file_name = 'Case_Study_Data_AIS.xlsx'\n",
    "\n",
    "huc0 = pd.read_excel(file_name, sheet_name=0, index_col='Date')\n",
    "g202 = pd.read_excel(file_name, sheet_name=1, index_col='Date')"
   ]
  },
  {
   "attachments": {},
   "cell_type": "markdown",
   "metadata": {},
   "source": [
    "### 1. Using pandas join the G202 - BAML 3-5Year UST Total Return Index to the HUC0 – BAML HY INDEX data"
   ]
  },
  {
   "cell_type": "code",
   "execution_count": 4,
   "metadata": {},
   "outputs": [
    {
     "data": {
      "text/html": [
       "<div>\n",
       "<style scoped>\n",
       "    .dataframe tbody tr th:only-of-type {\n",
       "        vertical-align: middle;\n",
       "    }\n",
       "\n",
       "    .dataframe tbody tr th {\n",
       "        vertical-align: top;\n",
       "    }\n",
       "\n",
       "    .dataframe thead th {\n",
       "        text-align: right;\n",
       "    }\n",
       "</style>\n",
       "<table border=\"1\" class=\"dataframe\">\n",
       "  <thead>\n",
       "    <tr style=\"text-align: right;\">\n",
       "      <th></th>\n",
       "      <th>Index_huc0</th>\n",
       "      <th>Description_huc0</th>\n",
       "      <th>OAS_huc0</th>\n",
       "      <th>Total Return Index Value -LOC_huc0</th>\n",
       "      <th>Index_g202</th>\n",
       "      <th>Description_g202</th>\n",
       "      <th>Total Return Index Value -LOC_g202</th>\n",
       "    </tr>\n",
       "    <tr>\n",
       "      <th>Date</th>\n",
       "      <th></th>\n",
       "      <th></th>\n",
       "      <th></th>\n",
       "      <th></th>\n",
       "      <th></th>\n",
       "      <th></th>\n",
       "      <th></th>\n",
       "    </tr>\n",
       "  </thead>\n",
       "  <tbody>\n",
       "    <tr>\n",
       "      <th>2010-01-04</th>\n",
       "      <td>HUC0</td>\n",
       "      <td>ICE BofA US High Yield Constrained Index</td>\n",
       "      <td>619</td>\n",
       "      <td>227.780</td>\n",
       "      <td>G2O2</td>\n",
       "      <td>ICE BofA 3-5 Year US Treasury Index</td>\n",
       "      <td>1648.780</td>\n",
       "    </tr>\n",
       "    <tr>\n",
       "      <th>2010-01-05</th>\n",
       "      <td>HUC0</td>\n",
       "      <td>ICE BofA US High Yield Constrained Index</td>\n",
       "      <td>615</td>\n",
       "      <td>228.883</td>\n",
       "      <td>G2O2</td>\n",
       "      <td>ICE BofA 3-5 Year US Treasury Index</td>\n",
       "      <td>1654.636</td>\n",
       "    </tr>\n",
       "    <tr>\n",
       "      <th>2010-01-06</th>\n",
       "      <td>HUC0</td>\n",
       "      <td>ICE BofA US High Yield Constrained Index</td>\n",
       "      <td>602</td>\n",
       "      <td>229.927</td>\n",
       "      <td>G2O2</td>\n",
       "      <td>ICE BofA 3-5 Year US Treasury Index</td>\n",
       "      <td>1653.533</td>\n",
       "    </tr>\n",
       "    <tr>\n",
       "      <th>2010-01-07</th>\n",
       "      <td>HUC0</td>\n",
       "      <td>ICE BofA US High Yield Constrained Index</td>\n",
       "      <td>588</td>\n",
       "      <td>231.046</td>\n",
       "      <td>G2O2</td>\n",
       "      <td>ICE BofA 3-5 Year US Treasury Index</td>\n",
       "      <td>1652.081</td>\n",
       "    </tr>\n",
       "    <tr>\n",
       "      <th>2010-01-08</th>\n",
       "      <td>HUC0</td>\n",
       "      <td>ICE BofA US High Yield Constrained Index</td>\n",
       "      <td>588</td>\n",
       "      <td>231.497</td>\n",
       "      <td>G2O2</td>\n",
       "      <td>ICE BofA 3-5 Year US Treasury Index</td>\n",
       "      <td>1654.532</td>\n",
       "    </tr>\n",
       "  </tbody>\n",
       "</table>\n",
       "</div>"
      ],
      "text/plain": [
       "           Index_huc0                          Description_huc0  OAS_huc0  \\\n",
       "Date                                                                        \n",
       "2010-01-04       HUC0  ICE BofA US High Yield Constrained Index       619   \n",
       "2010-01-05       HUC0  ICE BofA US High Yield Constrained Index       615   \n",
       "2010-01-06       HUC0  ICE BofA US High Yield Constrained Index       602   \n",
       "2010-01-07       HUC0  ICE BofA US High Yield Constrained Index       588   \n",
       "2010-01-08       HUC0  ICE BofA US High Yield Constrained Index       588   \n",
       "\n",
       "            Total Return Index Value -LOC_huc0 Index_g202  \\\n",
       "Date                                                        \n",
       "2010-01-04                             227.780       G2O2   \n",
       "2010-01-05                             228.883       G2O2   \n",
       "2010-01-06                             229.927       G2O2   \n",
       "2010-01-07                             231.046       G2O2   \n",
       "2010-01-08                             231.497       G2O2   \n",
       "\n",
       "                               Description_g202  \\\n",
       "Date                                              \n",
       "2010-01-04  ICE BofA 3-5 Year US Treasury Index   \n",
       "2010-01-05  ICE BofA 3-5 Year US Treasury Index   \n",
       "2010-01-06  ICE BofA 3-5 Year US Treasury Index   \n",
       "2010-01-07  ICE BofA 3-5 Year US Treasury Index   \n",
       "2010-01-08  ICE BofA 3-5 Year US Treasury Index   \n",
       "\n",
       "            Total Return Index Value -LOC_g202  \n",
       "Date                                            \n",
       "2010-01-04                            1648.780  \n",
       "2010-01-05                            1654.636  \n",
       "2010-01-06                            1653.533  \n",
       "2010-01-07                            1652.081  \n",
       "2010-01-08                            1654.532  "
      ]
     },
     "execution_count": 4,
     "metadata": {},
     "output_type": "execute_result"
    }
   ],
   "source": [
    "df = huc0.join(g202, lsuffix=\"_huc0\", rsuffix=\"_g202\").rename(columns = {'OAS': 'OAS_huc0'})\n",
    "df.head()"
   ]
  },
  {
   "attachments": {},
   "cell_type": "markdown",
   "metadata": {},
   "source": [
    "### 2. Using pandas and the data provided compute deciles on HUC0 OAS"
   ]
  },
  {
   "cell_type": "code",
   "execution_count": 5,
   "metadata": {},
   "outputs": [
    {
     "data": {
      "text/html": [
       "<div>\n",
       "<style scoped>\n",
       "    .dataframe tbody tr th:only-of-type {\n",
       "        vertical-align: middle;\n",
       "    }\n",
       "\n",
       "    .dataframe tbody tr th {\n",
       "        vertical-align: top;\n",
       "    }\n",
       "\n",
       "    .dataframe thead th {\n",
       "        text-align: right;\n",
       "    }\n",
       "</style>\n",
       "<table border=\"1\" class=\"dataframe\">\n",
       "  <thead>\n",
       "    <tr style=\"text-align: right;\">\n",
       "      <th></th>\n",
       "      <th>OAS_huc0</th>\n",
       "      <th>OAS_huc0_decile</th>\n",
       "    </tr>\n",
       "    <tr>\n",
       "      <th>Date</th>\n",
       "      <th></th>\n",
       "      <th></th>\n",
       "    </tr>\n",
       "  </thead>\n",
       "  <tbody>\n",
       "    <tr>\n",
       "      <th>2010-01-04</th>\n",
       "      <td>619</td>\n",
       "      <td>8</td>\n",
       "    </tr>\n",
       "    <tr>\n",
       "      <th>2010-01-05</th>\n",
       "      <td>615</td>\n",
       "      <td>8</td>\n",
       "    </tr>\n",
       "    <tr>\n",
       "      <th>2010-01-06</th>\n",
       "      <td>602</td>\n",
       "      <td>7</td>\n",
       "    </tr>\n",
       "    <tr>\n",
       "      <th>2010-01-07</th>\n",
       "      <td>588</td>\n",
       "      <td>7</td>\n",
       "    </tr>\n",
       "    <tr>\n",
       "      <th>2010-01-08</th>\n",
       "      <td>588</td>\n",
       "      <td>7</td>\n",
       "    </tr>\n",
       "  </tbody>\n",
       "</table>\n",
       "</div>"
      ],
      "text/plain": [
       "            OAS_huc0  OAS_huc0_decile\n",
       "Date                                 \n",
       "2010-01-04       619                8\n",
       "2010-01-05       615                8\n",
       "2010-01-06       602                7\n",
       "2010-01-07       588                7\n",
       "2010-01-08       588                7"
      ]
     },
     "execution_count": 5,
     "metadata": {},
     "output_type": "execute_result"
    }
   ],
   "source": [
    "df['OAS_huc0_decile'] = pd.qcut(df['OAS_huc0'], 10, labels=False)\n",
    "df[['OAS_huc0', 'OAS_huc0_decile']].head()"
   ]
  },
  {
   "attachments": {},
   "cell_type": "markdown",
   "metadata": {},
   "source": [
    "### 3. Compute 1YR forward HUC0 returns using the total return index provided"
   ]
  },
  {
   "cell_type": "code",
   "execution_count": 44,
   "metadata": {},
   "outputs": [],
   "source": [
    "##assume 263 BD days in a year \n",
    "## add where 263 ..TODD\n",
    "df['forward_1yr'] = df['Total Return Index Value -LOC_huc0']/df['Total Return Index Value -LOC_huc0'].shift(263) - 1"
   ]
  },
  {
   "attachments": {},
   "cell_type": "markdown",
   "metadata": {},
   "source": [
    "### 4.  Show descriptive statistics on 1YR forward returns by OAS decile"
   ]
  },
  {
   "cell_type": "code",
   "execution_count": 50,
   "metadata": {},
   "outputs": [
    {
     "data": {
      "text/html": [
       "<div>\n",
       "<style scoped>\n",
       "    .dataframe tbody tr th:only-of-type {\n",
       "        vertical-align: middle;\n",
       "    }\n",
       "\n",
       "    .dataframe tbody tr th {\n",
       "        vertical-align: top;\n",
       "    }\n",
       "\n",
       "    .dataframe thead tr th {\n",
       "        text-align: left;\n",
       "    }\n",
       "\n",
       "    .dataframe thead tr:last-of-type th {\n",
       "        text-align: right;\n",
       "    }\n",
       "</style>\n",
       "<table border=\"1\" class=\"dataframe\">\n",
       "  <thead>\n",
       "    <tr>\n",
       "      <th></th>\n",
       "      <th colspan=\"6\" halign=\"left\">forward_1yr</th>\n",
       "    </tr>\n",
       "    <tr>\n",
       "      <th></th>\n",
       "      <th>mean</th>\n",
       "      <th>median</th>\n",
       "      <th>amin</th>\n",
       "      <th>amax</th>\n",
       "      <th>std</th>\n",
       "      <th>count</th>\n",
       "    </tr>\n",
       "    <tr>\n",
       "      <th>OAS_huc0_decile</th>\n",
       "      <th></th>\n",
       "      <th></th>\n",
       "      <th></th>\n",
       "      <th></th>\n",
       "      <th></th>\n",
       "      <th></th>\n",
       "    </tr>\n",
       "  </thead>\n",
       "  <tbody>\n",
       "    <tr>\n",
       "      <th>0</th>\n",
       "      <td>0.081491</td>\n",
       "      <td>0.067544</td>\n",
       "      <td>0.015098</td>\n",
       "      <td>0.343163</td>\n",
       "      <td>0.063471</td>\n",
       "      <td>307.0</td>\n",
       "    </tr>\n",
       "    <tr>\n",
       "      <th>1</th>\n",
       "      <td>0.088889</td>\n",
       "      <td>0.077867</td>\n",
       "      <td>0.008811</td>\n",
       "      <td>0.310492</td>\n",
       "      <td>0.048808</td>\n",
       "      <td>291.0</td>\n",
       "    </tr>\n",
       "    <tr>\n",
       "      <th>2</th>\n",
       "      <td>0.100169</td>\n",
       "      <td>0.083477</td>\n",
       "      <td>0.006783</td>\n",
       "      <td>0.264169</td>\n",
       "      <td>0.052451</td>\n",
       "      <td>292.0</td>\n",
       "    </tr>\n",
       "    <tr>\n",
       "      <th>3</th>\n",
       "      <td>0.080471</td>\n",
       "      <td>0.069882</td>\n",
       "      <td>-0.001298</td>\n",
       "      <td>0.236470</td>\n",
       "      <td>0.044891</td>\n",
       "      <td>304.0</td>\n",
       "    </tr>\n",
       "    <tr>\n",
       "      <th>4</th>\n",
       "      <td>0.078202</td>\n",
       "      <td>0.069329</td>\n",
       "      <td>-0.004118</td>\n",
       "      <td>0.189358</td>\n",
       "      <td>0.053662</td>\n",
       "      <td>297.0</td>\n",
       "    </tr>\n",
       "    <tr>\n",
       "      <th>5</th>\n",
       "      <td>0.094038</td>\n",
       "      <td>0.106060</td>\n",
       "      <td>-0.011329</td>\n",
       "      <td>0.190914</td>\n",
       "      <td>0.055491</td>\n",
       "      <td>295.0</td>\n",
       "    </tr>\n",
       "    <tr>\n",
       "      <th>6</th>\n",
       "      <td>0.082858</td>\n",
       "      <td>0.081493</td>\n",
       "      <td>-0.027579</td>\n",
       "      <td>0.221696</td>\n",
       "      <td>0.066895</td>\n",
       "      <td>254.0</td>\n",
       "    </tr>\n",
       "    <tr>\n",
       "      <th>7</th>\n",
       "      <td>0.053394</td>\n",
       "      <td>0.052533</td>\n",
       "      <td>-0.036978</td>\n",
       "      <td>0.200936</td>\n",
       "      <td>0.063275</td>\n",
       "      <td>216.0</td>\n",
       "    </tr>\n",
       "    <tr>\n",
       "      <th>8</th>\n",
       "      <td>0.013478</td>\n",
       "      <td>0.003838</td>\n",
       "      <td>-0.040525</td>\n",
       "      <td>0.102700</td>\n",
       "      <td>0.038292</td>\n",
       "      <td>189.0</td>\n",
       "    </tr>\n",
       "    <tr>\n",
       "      <th>9</th>\n",
       "      <td>-0.011783</td>\n",
       "      <td>-0.028118</td>\n",
       "      <td>-0.150278</td>\n",
       "      <td>0.087628</td>\n",
       "      <td>0.057750</td>\n",
       "      <td>258.0</td>\n",
       "    </tr>\n",
       "  </tbody>\n",
       "</table>\n",
       "</div>"
      ],
      "text/plain": [
       "                forward_1yr                                               \n",
       "                       mean    median      amin      amax       std  count\n",
       "OAS_huc0_decile                                                           \n",
       "0                  0.081491  0.067544  0.015098  0.343163  0.063471  307.0\n",
       "1                  0.088889  0.077867  0.008811  0.310492  0.048808  291.0\n",
       "2                  0.100169  0.083477  0.006783  0.264169  0.052451  292.0\n",
       "3                  0.080471  0.069882 -0.001298  0.236470  0.044891  304.0\n",
       "4                  0.078202  0.069329 -0.004118  0.189358  0.053662  297.0\n",
       "5                  0.094038  0.106060 -0.011329  0.190914  0.055491  295.0\n",
       "6                  0.082858  0.081493 -0.027579  0.221696  0.066895  254.0\n",
       "7                  0.053394  0.052533 -0.036978  0.200936  0.063275  216.0\n",
       "8                  0.013478  0.003838 -0.040525  0.102700  0.038292  189.0\n",
       "9                 -0.011783 -0.028118 -0.150278  0.087628  0.057750  258.0"
      ]
     },
     "execution_count": 50,
     "metadata": {},
     "output_type": "execute_result"
    }
   ],
   "source": [
    "stats = df.groupby(['OAS_huc0_decile']).agg({'forward_1yr': [np.mean, np.median, np.min, np.max, np.std, pd.Series.count]})\n",
    "stats"
   ]
  },
  {
   "attachments": {},
   "cell_type": "markdown",
   "metadata": {},
   "source": [
    "### 5. Produce a bar chart of the median forward 1YR HUC0 returns by OAS decile"
   ]
  },
  {
   "cell_type": "code",
   "execution_count": 53,
   "metadata": {},
   "outputs": [
    {
     "data": {
      "image/png": "[encoded data removed]",
      "text/plain": [
       "<Figure size 1008x288 with 1 Axes>"
      ]
     },
     "metadata": {
      "needs_background": "light"
     },
     "output_type": "display_data"
    }
   ],
   "source": [
    "fig, ax = plt.subplots()\n",
    "\n",
    "ax.set_xticks(stats.index)\n",
    "ax.bar(stats.index, height=stats.forward_1yr['median'], color='maroon', width=0.4)\n",
    "ax.set_title(\"Median forward 1YR HUC0 by OAS Decile\")\n",
    "ax.set_xlabel(\"OAS Decile\")\n",
    "ax.set_ylabel(\"Forward 1YR Return\")\n",
    "fig.set_figwidth(14)"
   ]
  },
  {
   "attachments": {},
   "cell_type": "markdown",
   "metadata": {},
   "source": [
    "### 6. Produce a bar chart of the median OAS by OAS decile"
   ]
  },
  {
   "cell_type": "code",
   "execution_count": 54,
   "metadata": {},
   "outputs": [
    {
     "data": {
      "image/png": "[encoded data removed]",
      "text/plain": [
       "<Figure size 1008x288 with 1 Axes>"
      ]
     },
     "metadata": {
      "needs_background": "light"
     },
     "output_type": "display_data"
    }
   ],
   "source": [
    "oas_data = df.groupby(['OAS_huc0_decile']).agg({'OAS_huc0': np.median}).rename(columns = {'OAS_huc0':'median'})\n",
    "\n",
    "fig, ax = plt.subplots()\n",
    "\n",
    "ax.set_xticks(stats.index)\n",
    "ax.bar(oas_data.index, height=oas_data['median'], color='blue', width=0.4)\n",
    "ax.set_title(\"Median OAS by OAS Decile\")\n",
    "ax.set_xlabel(\"OAS Decile\")\n",
    "ax.set_ylabel(\"Median OAS\")\n",
    "fig.set_figwidth(14)"
   ]
  },
  {
   "attachments": {},
   "cell_type": "markdown",
   "metadata": {},
   "source": [
    "### 7. Using the daily returns from HUC0 compute a rolling 6-month Sharpe ratio (assume no risk free rate)"
   ]
  },
  {
   "cell_type": "code",
   "execution_count": 98,
   "metadata": {},
   "outputs": [],
   "source": [
    "# used log return \n",
    "daily_rets = np.log(df['Total Return Index Value -LOC_huc0']/ df['Total Return Index Value -LOC_huc0'].shift(1))\n",
    "\n",
    "# daily_rets = df['Total Return Index Value -LOC_huc0']/ df['Total Return Index Value -LOC_huc0'].shift(1) - 1\n",
    "df['daily_rets_huc0'] = daily_rets\n",
    "\n",
    "# used exact number of days in 6 month\n",
    "rolling_sharpe_6m = lambda x: np.sqrt(len(x)) * x.mean()/ x.std() \n",
    "\n",
    "sd = df.index[0]\n",
    "sd = sd + pd.offsets.DateOffset(months=6)\n",
    "\n",
    "ratios = [rolling_sharpe_6m(df.loc[d - pd.offsets.DateOffset(months=6): d, 'daily_rets_huc0']) for d in df[sd:].index]\n",
    "\n",
    "sharpe_df = pd.DataFrame(ratios).rename(columns={0:'sharpe_ratio'})\n",
    "sharpe_df.set_index(df[sd:].index, inplace=True)"
   ]
  },
  {
   "cell_type": "code",
   "execution_count": 100,
   "metadata": {},
   "outputs": [
    {
     "data": {
      "text/html": [
       "<div>\n",
       "<style scoped>\n",
       "    .dataframe tbody tr th:only-of-type {\n",
       "        vertical-align: middle;\n",
       "    }\n",
       "\n",
       "    .dataframe tbody tr th {\n",
       "        vertical-align: top;\n",
       "    }\n",
       "\n",
       "    .dataframe thead th {\n",
       "        text-align: right;\n",
       "    }\n",
       "</style>\n",
       "<table border=\"1\" class=\"dataframe\">\n",
       "  <thead>\n",
       "    <tr style=\"text-align: right;\">\n",
       "      <th></th>\n",
       "      <th>sharpe_ratio</th>\n",
       "    </tr>\n",
       "    <tr>\n",
       "      <th>Date</th>\n",
       "      <th></th>\n",
       "    </tr>\n",
       "  </thead>\n",
       "  <tbody>\n",
       "    <tr>\n",
       "      <th>2010-07-05</th>\n",
       "      <td>1.286796</td>\n",
       "    </tr>\n",
       "    <tr>\n",
       "      <th>2010-07-06</th>\n",
       "      <td>1.210108</td>\n",
       "    </tr>\n",
       "    <tr>\n",
       "      <th>2010-07-07</th>\n",
       "      <td>1.099994</td>\n",
       "    </tr>\n",
       "    <tr>\n",
       "      <th>2010-07-08</th>\n",
       "      <td>1.064464</td>\n",
       "    </tr>\n",
       "    <tr>\n",
       "      <th>2010-07-09</th>\n",
       "      <td>1.085993</td>\n",
       "    </tr>\n",
       "  </tbody>\n",
       "</table>\n",
       "</div>"
      ],
      "text/plain": [
       "            sharpe_ratio\n",
       "Date                    \n",
       "2010-07-05      1.286796\n",
       "2010-07-06      1.210108\n",
       "2010-07-07      1.099994\n",
       "2010-07-08      1.064464\n",
       "2010-07-09      1.085993"
      ]
     },
     "execution_count": 100,
     "metadata": {},
     "output_type": "execute_result"
    }
   ],
   "source": [
    "sharpe_df.head()"
   ]
  },
  {
   "attachments": {},
   "cell_type": "markdown",
   "metadata": {},
   "source": [
    "### 8. What is the median, 25th and 75th percentile of the rolling distribution?"
   ]
  },
  {
   "cell_type": "code",
   "execution_count": 101,
   "metadata": {},
   "outputs": [
    {
     "name": "stdout",
     "output_type": "stream",
     "text": [
      "median is: 2.0268\n",
      "25th percentile is: 0.2895\n",
      "75th percentile is: 3.2783\n"
     ]
    }
   ],
   "source": [
    "print(f\"median is: {round(sharpe_df.describe().loc['50%'].values[0], 4)}\")\n",
    "print(f\"25th percentile is: {round(sharpe_df.describe().loc['25%'].values[0], 4)}\")\n",
    "print(f\"75th percentile is: {round(sharpe_df.describe().loc['75%'].values[0], 4)}\")"
   ]
  },
  {
   "attachments": {},
   "cell_type": "markdown",
   "metadata": {},
   "source": [
    "### 9. Compute .05/.95 confidence intervals on the mean Sharpe ratio from the rolling distribution"
   ]
  },
  {
   "cell_type": "code",
   "execution_count": 105,
   "metadata": {},
   "outputs": [
    {
     "name": "stdout",
     "output_type": "stream",
     "text": [
      "CI is: (-2.0787, 5.916) \n"
     ]
    }
   ],
   "source": [
    "mu = sharpe_df.mean().values[0]\n",
    "sigma = sharpe_df.std().values[0]\n",
    "z = 1.96 \n",
    "print(f\"CI is: ({round(mu - z * sigma, 4)}, {round(mu + z * sigma, 4)}) \")"
   ]
  },
  {
   "attachments": {},
   "cell_type": "markdown",
   "metadata": {},
   "source": [
    "### 10. In pandas compute and plot EWM daily volatility on the HUC0 total return series. Use span=100."
   ]
  },
  {
   "cell_type": "code",
   "execution_count": 130,
   "metadata": {},
   "outputs": [
    {
     "data": {
      "image/png": "[encoded data removed]",
      "text/plain": [
       "<Figure size 1008x288 with 1 Axes>"
      ]
     },
     "metadata": {
      "needs_background": "light"
     },
     "output_type": "display_data"
    }
   ],
   "source": [
    "SPAN= 100 \n",
    "\n",
    "df['vol'] = df['daily_rets_huc0'].ewm(span=SPAN).std()\n",
    "\n",
    "fig, ax = plt.subplots()\n",
    "ax.plot(df['vol'], label='ewm vol')\n",
    "ax.set_title(\"EMW Daily Vol\")\n",
    "ax.set_xlabel(\"Date\")\n",
    "ax.set_ylabel(\"Daily Volatility\")\n",
    "ax.grid(True)\n",
    "ax.legend()\n",
    "fig.set_figwidth(14)"
   ]
  },
  {
   "attachments": {},
   "cell_type": "markdown",
   "metadata": {},
   "source": [
    "### 11. Using the volatility series in #10 compute the current daily VaR of the HUC0 at alpha=.05."
   ]
  },
  {
   "cell_type": "code",
   "execution_count": 126,
   "metadata": {},
   "outputs": [],
   "source": [
    "import scipy.stats as stats\n",
    "z_score = stats.norm.ppf(1 - 0.05)\n",
    "df['daily_var'] = z_score * df['vol']"
   ]
  },
  {
   "attachments": {},
   "cell_type": "markdown",
   "metadata": {},
   "source": [
    "Assume current daily VaR asked is based on the last day of data, as of 5/7/2021"
   ]
  },
  {
   "cell_type": "code",
   "execution_count": 127,
   "metadata": {},
   "outputs": [
    {
     "name": "stdout",
     "output_type": "stream",
     "text": [
      "current daily VaR : 0.0028\n"
     ]
    }
   ],
   "source": [
    "cur_daily_var = df['daily_var'][-1]\n",
    "print(f'current daily VaR : {round(cur_daily_var, 4)}')"
   ]
  },
  {
   "cell_type": "code",
   "execution_count": 128,
   "metadata": {},
   "outputs": [
    {
     "data": {
      "image/png": "[encoded data removed]",
      "text/plain": [
       "<Figure size 1008x288 with 1 Axes>"
      ]
     },
     "metadata": {
      "needs_background": "light"
     },
     "output_type": "display_data"
    }
   ],
   "source": [
    "fig, ax = plt.subplots()\n",
    "ax.plot(df['daily_var'], label='VaR')\n",
    "ax.set_title(\"Daily VaR\")\n",
    "ax.set_xlabel(\"Date\")\n",
    "ax.set_ylabel(\"Daily VaR\")\n",
    "ax.legend()\n",
    "ax.grid(True)\n",
    "fig.set_figwidth(14)"
   ]
  }
 ],
 "metadata": {
  "kernelspec": {
   "display_name": ".venv",
   "language": "python",
   "name": "python3"
  },
  "language_info": {
   "codemirror_mode": {
    "name": "ipython",
    "version": 3
   },
   "file_extension": ".py",
   "mimetype": "text/x-python",
   "name": "python",
   "nbconvert_exporter": "python",
   "pygments_lexer": "ipython3",
   "version": "3.6.8"
  },
  "orig_nbformat": 4
 },
 "nbformat": 4,
 "nbformat_minor": 2
}
