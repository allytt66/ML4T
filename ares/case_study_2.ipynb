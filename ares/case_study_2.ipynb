{
 "cells": [
  {
   "cell_type": "code",
   "execution_count": 33,
   "metadata": {},
   "outputs": [],
   "source": [
    "import pandas as pd\n",
    "import numpy as np\n",
    "import openpyxl as op"
   ]
  },
  {
   "attachments": {},
   "cell_type": "markdown",
   "metadata": {},
   "source": [
    "### Class function with analytics and utility methods"
   ]
  },
  {
   "cell_type": "code",
   "execution_count": 2,
   "metadata": {},
   "outputs": [],
   "source": [
    "class Analytics:\n",
    "\n",
    "    def __init__(\n",
    "            self,\n",
    "            data_file_name, \n",
    "            template_file_name,\n",
    "            data_file_sheet = 2): \n",
    "        \n",
    "        self.data_file_name = data_file_name\n",
    "        self.template_file_name = template_file_name \n",
    "        self.data_file_sheet = data_file_sheet\n",
    "        self.wb = None\n",
    "\n",
    "    ## Add path argument import sys \n",
    "    def load_data(self): \n",
    "        port = pd.read_excel(self.data_file_name, sheet_name=self.data_file_sheet)\n",
    "        return port \n",
    "\n",
    "    ## Add path argument import sys \n",
    "    def load_template(self): \n",
    "        wb = op.load_workbook(self.template_file_name)\n",
    "        self.wb = wb\n",
    "        return wb\n",
    "    \n",
    "    def mvwa(self, df, fieldname): \n",
    "        \"\"\"\n",
    "        the goal of function, market value \n",
    "        arg: data type \n",
    "        df: dataframe of a portfolio, following data file scheme \n",
    "        category: string of data field name\n",
    "        return market value weighted data field \n",
    "        \"\"\"\n",
    "\n",
    "        df['Weight'] = df['Market_Value']/df['Market_Value'].sum()\n",
    "        weighted_analytics = df['Weight'] * df[category]\n",
    "        return weighted_analytics.sum()\n",
    "    \n",
    "    def get_mv_percent(self, portolio, fieldname):\n",
    "        \"\"\"\n",
    "        port: dataframe of a portfolio, following data file scheme \n",
    "        category: string of data field name to be aggregated on \n",
    "        return market value percentage of a category \n",
    "        \"\"\"\n",
    "\n",
    "        mv_percent = port.groupby([category]).agg({'Market_Value': np.sum})/port.Market_Value.sum()\n",
    "        mv_percent = mv_percent.reset_index()\n",
    "        mv_percent[category] = mv_percent[category].astype(str)\n",
    "        \n",
    "        return mv_percent\n",
    "    \n",
    "\n",
    "    def get_template_val(self, st_row, ed_row, col, category): \n",
    "        \"\"\"\n",
    "        st_row: start row number of template \n",
    "        ed_row: end row number of template \n",
    "        col: col to read in \n",
    "        category: string of data field name to be reported on \n",
    "        \"\"\"\n",
    "        vals = []\n",
    "        ws = self.wb.active \n",
    "        for r in ws.iter_rows(min_row = st_row, min_col = col, max_row = ed_row, max_col = col):\n",
    "            for cell in r:\n",
    "                vals.extend([cell.value])\n",
    "        df = pd.DataFrame({category: vals})\n",
    "        df[category]=df[category].astype(str)\n",
    "        \n",
    "        return df \n",
    "    \n",
    "    def populate_data(self, df_template, df_results, category):\n",
    "        \"\"\"\n",
    "        df_template: df from get_template_val \n",
    "        df_results: df from get_mv_percent \n",
    "        category: string of data field name to be reported on\n",
    "        \"\"\" \n",
    "\n",
    "        df = df_template.merge(df_results, on=category, how=\"left\")\n",
    "        df = df.fillna(0)\n",
    "\n",
    "        return df\n",
    "    \n",
    "    def write_results(self, st_row, ed_row, col, results, template_file_name): \n",
    "        \"\"\"\n",
    "        template_results: dataframe or list of results to be written out \n",
    "        \"\"\"\n",
    "        ws = self.wb.active \n",
    "        for r in ws.iter_rows(min_row = st_row, min_col = col, max_row = ed_row, max_col = col): \n",
    "            for cell in r: \n",
    "                if isinstance(results, list): \n",
    "                    cell.value = results[cell.row - st_row]\n",
    "                else: \n",
    "                    cell.value = results.Market_Value[cell.row - st_row]\n",
    "        \n",
    "        template_file_name = \"template_file_name\"\n",
    "        self.wb.save(template_file_name)\n"
   ]
  },
  {
   "attachments": {},
   "cell_type": "markdown",
   "metadata": {},
   "source": [
    "### Initialize with respective data and template files"
   ]
  },
  {
   "cell_type": "code",
   "execution_count": 35,
   "metadata": {},
   "outputs": [],
   "source": [
    "file_name = 'Case_Study_Data_AIS.xlsx'\n",
    "template_name = 'AnalyticsTemplate.xlsx'\n",
    "\n",
    "case_study = Analytics(file_name, template_name)\n",
    "wb = case_study.load_template()"
   ]
  },
  {
   "cell_type": "code",
   "execution_count": 36,
   "metadata": {},
   "outputs": [
    {
     "data": {
      "text/html": [
       "<div>\n",
       "<style scoped>\n",
       "    .dataframe tbody tr th:only-of-type {\n",
       "        vertical-align: middle;\n",
       "    }\n",
       "\n",
       "    .dataframe tbody tr th {\n",
       "        vertical-align: top;\n",
       "    }\n",
       "\n",
       "    .dataframe thead th {\n",
       "        text-align: right;\n",
       "    }\n",
       "</style>\n",
       "<table border=\"1\" class=\"dataframe\">\n",
       "  <thead>\n",
       "    <tr style=\"text-align: right;\">\n",
       "      <th></th>\n",
       "      <th>Portfolio</th>\n",
       "      <th>Primary_Asset_ID</th>\n",
       "      <th>Asset_Type</th>\n",
       "      <th>Coupon_Type</th>\n",
       "      <th>Rating</th>\n",
       "      <th>Industry</th>\n",
       "      <th>Market_Value</th>\n",
       "      <th>OAS</th>\n",
       "      <th>Yield</th>\n",
       "      <th>Duration</th>\n",
       "    </tr>\n",
       "  </thead>\n",
       "  <tbody>\n",
       "    <tr>\n",
       "      <th>0</th>\n",
       "      <td>Ares</td>\n",
       "      <td>CINAVYTI</td>\n",
       "      <td>Loan</td>\n",
       "      <td>Floating</td>\n",
       "      <td>BB</td>\n",
       "      <td>Media</td>\n",
       "      <td>703181</td>\n",
       "      <td>317.0</td>\n",
       "      <td>4.17</td>\n",
       "      <td>0.115</td>\n",
       "    </tr>\n",
       "    <tr>\n",
       "      <th>1</th>\n",
       "      <td>Ares</td>\n",
       "      <td>DUHVUIVB</td>\n",
       "      <td>Bond</td>\n",
       "      <td>Fixed</td>\n",
       "      <td>BB-</td>\n",
       "      <td>Services</td>\n",
       "      <td>955601</td>\n",
       "      <td>387.0</td>\n",
       "      <td>5.87</td>\n",
       "      <td>1.023</td>\n",
       "    </tr>\n",
       "    <tr>\n",
       "      <th>2</th>\n",
       "      <td>Ares</td>\n",
       "      <td>BKJJDAID</td>\n",
       "      <td>Bond</td>\n",
       "      <td>Fixed</td>\n",
       "      <td>CCC</td>\n",
       "      <td>Healthcare</td>\n",
       "      <td>732398</td>\n",
       "      <td>519.0</td>\n",
       "      <td>6.19</td>\n",
       "      <td>6.176</td>\n",
       "    </tr>\n",
       "    <tr>\n",
       "      <th>3</th>\n",
       "      <td>Ares</td>\n",
       "      <td>JKSOSIKI</td>\n",
       "      <td>Bond</td>\n",
       "      <td>Fixed</td>\n",
       "      <td>BB-</td>\n",
       "      <td>Consumer Goods</td>\n",
       "      <td>1885559</td>\n",
       "      <td>588.0</td>\n",
       "      <td>6.88</td>\n",
       "      <td>6.295</td>\n",
       "    </tr>\n",
       "    <tr>\n",
       "      <th>4</th>\n",
       "      <td>Ares</td>\n",
       "      <td>HUIYGUHC</td>\n",
       "      <td>Loan</td>\n",
       "      <td>Floating</td>\n",
       "      <td>B</td>\n",
       "      <td>Financial Services</td>\n",
       "      <td>956697</td>\n",
       "      <td>485.0</td>\n",
       "      <td>6.85</td>\n",
       "      <td>0.236</td>\n",
       "    </tr>\n",
       "  </tbody>\n",
       "</table>\n",
       "</div>"
      ],
      "text/plain": [
       "  Portfolio Primary_Asset_ID Asset_Type Coupon_Type Rating  \\\n",
       "0      Ares         CINAVYTI       Loan    Floating     BB   \n",
       "1      Ares         DUHVUIVB       Bond       Fixed    BB-   \n",
       "2      Ares         BKJJDAID       Bond       Fixed    CCC   \n",
       "3      Ares         JKSOSIKI       Bond       Fixed    BB-   \n",
       "4      Ares         HUIYGUHC       Loan    Floating      B   \n",
       "\n",
       "             Industry  Market_Value    OAS  Yield  Duration  \n",
       "0               Media        703181  317.0   4.17     0.115  \n",
       "1            Services        955601  387.0   5.87     1.023  \n",
       "2          Healthcare        732398  519.0   6.19     6.176  \n",
       "3      Consumer Goods       1885559  588.0   6.88     6.295  \n",
       "4  Financial Services        956697  485.0   6.85     0.236  "
      ]
     },
     "execution_count": 36,
     "metadata": {},
     "output_type": "execute_result"
    }
   ],
   "source": [
    "port_totl = case_study.load_data()\n",
    "port_totl.head()"
   ]
  },
  {
   "attachments": {},
   "cell_type": "markdown",
   "metadata": {},
   "source": [
    "### Calculate respective summary metrics and mv percentages"
   ]
  },
  {
   "attachments": {},
   "cell_type": "markdown",
   "metadata": {},
   "source": [
    "#### 1. Summary metrics calculations on port segments "
   ]
  },
  {
   "cell_type": "code",
   "execution_count": 37,
   "metadata": {},
   "outputs": [],
   "source": [
    "port_loan = port_totl[port_totl['Asset_Type'] == 'Loan'].copy()\n",
    "port_bond = port_totl[port_totl['Asset_Type'] == 'Bond'].copy()\n",
    "port_fixed = port_totl[port_totl['Coupon_Type'] == 'Fixed'].copy()\n",
    "port_float = port_totl[port_totl['Coupon_Type'] == 'Floating'].copy()"
   ]
  },
  {
   "cell_type": "code",
   "execution_count": 38,
   "metadata": {},
   "outputs": [],
   "source": [
    "port_list = [port_totl, port_bond, port_loan]\n",
    "analytics_list = ['Yield', 'OAS']\n",
    "\n",
    "port_list2 = [port_totl, port_fixed, port_float]\n",
    "analytics_list2 = ['Duration']"
   ]
  },
  {
   "cell_type": "code",
   "execution_count": 39,
   "metadata": {},
   "outputs": [
    {
     "data": {
      "text/plain": [
       "11"
      ]
     },
     "execution_count": 39,
     "metadata": {},
     "output_type": "execute_result"
    }
   ],
   "source": [
    "num_asset = port_totl.Primary_Asset_ID.value_counts().values.sum()\n",
    "\n",
    "result_summary =[num_asset]\n",
    "\n",
    "for a in analytics_list: \n",
    "    for p in port_list:\n",
    "        result = case_study.mvwa(p, a)\n",
    "        result_summary.extend([result])\n",
    "\n",
    "for a in analytics_list2: \n",
    "    for p in port_list2:\n",
    "        result = case_study.mvwa(p, a)\n",
    "        result_summary.extend([result])\n",
    "        \n",
    "market_value = port_totl.Market_Value.sum()\n",
    "result_summary.extend([market_value])\n",
    "len(result_summary)"
   ]
  },
  {
   "attachments": {},
   "cell_type": "markdown",
   "metadata": {},
   "source": [
    "#### 2. mv percentage by rating"
   ]
  },
  {
   "cell_type": "code",
   "execution_count": 40,
   "metadata": {},
   "outputs": [
    {
     "data": {
      "text/html": [
       "<div>\n",
       "<style scoped>\n",
       "    .dataframe tbody tr th:only-of-type {\n",
       "        vertical-align: middle;\n",
       "    }\n",
       "\n",
       "    .dataframe tbody tr th {\n",
       "        vertical-align: top;\n",
       "    }\n",
       "\n",
       "    .dataframe thead th {\n",
       "        text-align: right;\n",
       "    }\n",
       "</style>\n",
       "<table border=\"1\" class=\"dataframe\">\n",
       "  <thead>\n",
       "    <tr style=\"text-align: right;\">\n",
       "      <th></th>\n",
       "      <th>Rating</th>\n",
       "      <th>Market_Value</th>\n",
       "    </tr>\n",
       "  </thead>\n",
       "  <tbody>\n",
       "    <tr>\n",
       "      <th>0</th>\n",
       "      <td>B</td>\n",
       "      <td>0.201154</td>\n",
       "    </tr>\n",
       "    <tr>\n",
       "      <th>1</th>\n",
       "      <td>B+</td>\n",
       "      <td>0.143007</td>\n",
       "    </tr>\n",
       "    <tr>\n",
       "      <th>2</th>\n",
       "      <td>B-</td>\n",
       "      <td>0.072982</td>\n",
       "    </tr>\n",
       "    <tr>\n",
       "      <th>3</th>\n",
       "      <td>BB</td>\n",
       "      <td>0.049749</td>\n",
       "    </tr>\n",
       "    <tr>\n",
       "      <th>4</th>\n",
       "      <td>BB+</td>\n",
       "      <td>0.136047</td>\n",
       "    </tr>\n",
       "  </tbody>\n",
       "</table>\n",
       "</div>"
      ],
      "text/plain": [
       "  Rating  Market_Value\n",
       "0      B      0.201154\n",
       "1     B+      0.143007\n",
       "2     B-      0.072982\n",
       "3     BB      0.049749\n",
       "4    BB+      0.136047"
      ]
     },
     "execution_count": 40,
     "metadata": {},
     "output_type": "execute_result"
    }
   ],
   "source": [
    "df_rating = case_study.get_mv_percent(port_totl, 'Rating')\n",
    "df_rating.head()"
   ]
  },
  {
   "cell_type": "code",
   "execution_count": 41,
   "metadata": {},
   "outputs": [
    {
     "data": {
      "text/html": [
       "<div>\n",
       "<style scoped>\n",
       "    .dataframe tbody tr th:only-of-type {\n",
       "        vertical-align: middle;\n",
       "    }\n",
       "\n",
       "    .dataframe tbody tr th {\n",
       "        vertical-align: top;\n",
       "    }\n",
       "\n",
       "    .dataframe thead th {\n",
       "        text-align: right;\n",
       "    }\n",
       "</style>\n",
       "<table border=\"1\" class=\"dataframe\">\n",
       "  <thead>\n",
       "    <tr style=\"text-align: right;\">\n",
       "      <th></th>\n",
       "      <th>Rating</th>\n",
       "      <th>Market_Value</th>\n",
       "    </tr>\n",
       "  </thead>\n",
       "  <tbody>\n",
       "    <tr>\n",
       "      <th>0</th>\n",
       "      <td>AAA</td>\n",
       "      <td>0.0</td>\n",
       "    </tr>\n",
       "    <tr>\n",
       "      <th>1</th>\n",
       "      <td>AA+</td>\n",
       "      <td>0.0</td>\n",
       "    </tr>\n",
       "    <tr>\n",
       "      <th>2</th>\n",
       "      <td>AA</td>\n",
       "      <td>0.0</td>\n",
       "    </tr>\n",
       "    <tr>\n",
       "      <th>3</th>\n",
       "      <td>AA-</td>\n",
       "      <td>0.0</td>\n",
       "    </tr>\n",
       "    <tr>\n",
       "      <th>4</th>\n",
       "      <td>A+</td>\n",
       "      <td>0.0</td>\n",
       "    </tr>\n",
       "  </tbody>\n",
       "</table>\n",
       "</div>"
      ],
      "text/plain": [
       "  Rating  Market_Value\n",
       "0    AAA           0.0\n",
       "1    AA+           0.0\n",
       "2     AA           0.0\n",
       "3    AA-           0.0\n",
       "4     A+           0.0"
      ]
     },
     "execution_count": 41,
     "metadata": {},
     "output_type": "execute_result"
    }
   ],
   "source": [
    "result_rating = case_study.get_template_val(st_row=3, ed_row = 25, col=5, category='Rating')\n",
    "result_rating = case_study.populate_data(result_rating, df_rating, 'Rating')\n",
    "result_rating.head()"
   ]
  },
  {
   "attachments": {},
   "cell_type": "markdown",
   "metadata": {},
   "source": [
    "#### 3. mv percentage by industry"
   ]
  },
  {
   "cell_type": "code",
   "execution_count": 42,
   "metadata": {},
   "outputs": [
    {
     "data": {
      "text/html": [
       "<div>\n",
       "<style scoped>\n",
       "    .dataframe tbody tr th:only-of-type {\n",
       "        vertical-align: middle;\n",
       "    }\n",
       "\n",
       "    .dataframe tbody tr th {\n",
       "        vertical-align: top;\n",
       "    }\n",
       "\n",
       "    .dataframe thead th {\n",
       "        text-align: right;\n",
       "    }\n",
       "</style>\n",
       "<table border=\"1\" class=\"dataframe\">\n",
       "  <thead>\n",
       "    <tr style=\"text-align: right;\">\n",
       "      <th></th>\n",
       "      <th>Industry</th>\n",
       "      <th>Market_Value</th>\n",
       "    </tr>\n",
       "  </thead>\n",
       "  <tbody>\n",
       "    <tr>\n",
       "      <th>0</th>\n",
       "      <td>Automotive</td>\n",
       "      <td>0.091238</td>\n",
       "    </tr>\n",
       "    <tr>\n",
       "      <th>1</th>\n",
       "      <td>Basic Industry</td>\n",
       "      <td>0.109781</td>\n",
       "    </tr>\n",
       "    <tr>\n",
       "      <th>2</th>\n",
       "      <td>Capital Goods</td>\n",
       "      <td>0.064788</td>\n",
       "    </tr>\n",
       "    <tr>\n",
       "      <th>3</th>\n",
       "      <td>Consumer Goods</td>\n",
       "      <td>0.027810</td>\n",
       "    </tr>\n",
       "    <tr>\n",
       "      <th>4</th>\n",
       "      <td>Energy</td>\n",
       "      <td>0.048622</td>\n",
       "    </tr>\n",
       "  </tbody>\n",
       "</table>\n",
       "</div>"
      ],
      "text/plain": [
       "         Industry  Market_Value\n",
       "0      Automotive      0.091238\n",
       "1  Basic Industry      0.109781\n",
       "2   Capital Goods      0.064788\n",
       "3  Consumer Goods      0.027810\n",
       "4          Energy      0.048622"
      ]
     },
     "execution_count": 42,
     "metadata": {},
     "output_type": "execute_result"
    }
   ],
   "source": [
    "df_industry = case_study.get_mv_percent(port_totl, 'Industry')\n",
    "df_industry.head()"
   ]
  },
  {
   "cell_type": "code",
   "execution_count": 43,
   "metadata": {},
   "outputs": [
    {
     "data": {
      "text/html": [
       "<div>\n",
       "<style scoped>\n",
       "    .dataframe tbody tr th:only-of-type {\n",
       "        vertical-align: middle;\n",
       "    }\n",
       "\n",
       "    .dataframe tbody tr th {\n",
       "        vertical-align: top;\n",
       "    }\n",
       "\n",
       "    .dataframe thead th {\n",
       "        text-align: right;\n",
       "    }\n",
       "</style>\n",
       "<table border=\"1\" class=\"dataframe\">\n",
       "  <thead>\n",
       "    <tr style=\"text-align: right;\">\n",
       "      <th></th>\n",
       "      <th>Industry</th>\n",
       "      <th>Market_Value</th>\n",
       "    </tr>\n",
       "  </thead>\n",
       "  <tbody>\n",
       "    <tr>\n",
       "      <th>0</th>\n",
       "      <td>Automotive</td>\n",
       "      <td>0.091238</td>\n",
       "    </tr>\n",
       "    <tr>\n",
       "      <th>1</th>\n",
       "      <td>Banking</td>\n",
       "      <td>0.000000</td>\n",
       "    </tr>\n",
       "    <tr>\n",
       "      <th>2</th>\n",
       "      <td>Basic Industry</td>\n",
       "      <td>0.109781</td>\n",
       "    </tr>\n",
       "    <tr>\n",
       "      <th>3</th>\n",
       "      <td>Capital Goods</td>\n",
       "      <td>0.064788</td>\n",
       "    </tr>\n",
       "    <tr>\n",
       "      <th>4</th>\n",
       "      <td>Consumer Goods</td>\n",
       "      <td>0.027810</td>\n",
       "    </tr>\n",
       "  </tbody>\n",
       "</table>\n",
       "</div>"
      ],
      "text/plain": [
       "         Industry  Market_Value\n",
       "0      Automotive      0.091238\n",
       "1         Banking      0.000000\n",
       "2  Basic Industry      0.109781\n",
       "3   Capital Goods      0.064788\n",
       "4  Consumer Goods      0.027810"
      ]
     },
     "execution_count": 43,
     "metadata": {},
     "output_type": "execute_result"
    }
   ],
   "source": [
    "result_industry = case_study.get_template_val(st_row=32, ed_row = 49, col=5, category='Industry')\n",
    "result_industry = case_study.populate_data(result_industry, df_industry, 'Industry')\n",
    "result_industry.head()"
   ]
  },
  {
   "attachments": {},
   "cell_type": "markdown",
   "metadata": {},
   "source": [
    "### Write out results to template "
   ]
  },
  {
   "cell_type": "code",
   "execution_count": 44,
   "metadata": {},
   "outputs": [],
   "source": [
    "case_study.write_results(st_row=3, ed_row = 25, col=6, results = result_rating)\n",
    "case_study.write_results(st_row=32, ed_row = 49, col=6, results = result_industry)\n",
    "case_study.write_results(st_row=3, ed_row = 13, col=3, results = result_summary)"
   ]
  }
 ],
 "metadata": {
  "kernelspec": {
   "display_name": ".venv",
   "language": "python",
   "name": "python3"
  },
  "language_info": {
   "codemirror_mode": {
    "name": "ipython",
    "version": 3
   },
   "file_extension": ".py",
   "mimetype": "text/x-python",
   "name": "python",
   "nbconvert_exporter": "python",
   "pygments_lexer": "ipython3",
   "version": "3.6.8"
  },
  "orig_nbformat": 4
 },
 "nbformat": 4,
 "nbformat_minor": 2
}
