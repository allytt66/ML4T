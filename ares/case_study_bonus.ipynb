{
 "cells": [
  {
   "cell_type": "code",
   "execution_count": 4,
   "metadata": {},
   "outputs": [],
   "source": [
    "import pandas as pd\n",
    "import numpy as np"
   ]
  },
  {
   "cell_type": "code",
   "execution_count": 5,
   "metadata": {},
   "outputs": [],
   "source": [
    "file_name = 'Case_Study_Data_AIS.xlsx'\n",
    "\n",
    "port = pd.read_excel(file_name, sheet_name=2)\n",
    "sofr = pd.read_excel(file_name, sheet_name=3)"
   ]
  },
  {
   "cell_type": "code",
   "execution_count": 6,
   "metadata": {},
   "outputs": [
    {
     "data": {
      "text/html": [
       "<div>\n",
       "<style scoped>\n",
       "    .dataframe tbody tr th:only-of-type {\n",
       "        vertical-align: middle;\n",
       "    }\n",
       "\n",
       "    .dataframe tbody tr th {\n",
       "        vertical-align: top;\n",
       "    }\n",
       "\n",
       "    .dataframe thead th {\n",
       "        text-align: right;\n",
       "    }\n",
       "</style>\n",
       "<table border=\"1\" class=\"dataframe\">\n",
       "  <thead>\n",
       "    <tr style=\"text-align: right;\">\n",
       "      <th></th>\n",
       "      <th>Date</th>\n",
       "      <th>3M SOFR</th>\n",
       "    </tr>\n",
       "  </thead>\n",
       "  <tbody>\n",
       "    <tr>\n",
       "      <th>0</th>\n",
       "      <td>12/31/XX</td>\n",
       "      <td>0.0100</td>\n",
       "    </tr>\n",
       "    <tr>\n",
       "      <th>1</th>\n",
       "      <td>3/31/XX+1</td>\n",
       "      <td>0.0125</td>\n",
       "    </tr>\n",
       "    <tr>\n",
       "      <th>2</th>\n",
       "      <td>6/30/XX+1</td>\n",
       "      <td>0.0140</td>\n",
       "    </tr>\n",
       "    <tr>\n",
       "      <th>3</th>\n",
       "      <td>9/30/XX+1</td>\n",
       "      <td>0.0170</td>\n",
       "    </tr>\n",
       "    <tr>\n",
       "      <th>4</th>\n",
       "      <td>12/31/XX+1</td>\n",
       "      <td>0.0250</td>\n",
       "    </tr>\n",
       "  </tbody>\n",
       "</table>\n",
       "</div>"
      ],
      "text/plain": [
       "         Date  3M SOFR\n",
       "0    12/31/XX   0.0100\n",
       "1   3/31/XX+1   0.0125\n",
       "2   6/30/XX+1   0.0140\n",
       "3   9/30/XX+1   0.0170\n",
       "4  12/31/XX+1   0.0250"
      ]
     },
     "execution_count": 6,
     "metadata": {},
     "output_type": "execute_result"
    }
   ],
   "source": [
    "sofr"
   ]
  },
  {
   "cell_type": "code",
   "execution_count": 7,
   "metadata": {},
   "outputs": [
    {
     "data": {
      "text/html": [
       "<div>\n",
       "<style scoped>\n",
       "    .dataframe tbody tr th:only-of-type {\n",
       "        vertical-align: middle;\n",
       "    }\n",
       "\n",
       "    .dataframe tbody tr th {\n",
       "        vertical-align: top;\n",
       "    }\n",
       "\n",
       "    .dataframe thead th {\n",
       "        text-align: right;\n",
       "    }\n",
       "</style>\n",
       "<table border=\"1\" class=\"dataframe\">\n",
       "  <thead>\n",
       "    <tr style=\"text-align: right;\">\n",
       "      <th></th>\n",
       "      <th>Portfolio</th>\n",
       "      <th>Primary_Asset_ID</th>\n",
       "      <th>Asset_Type</th>\n",
       "      <th>Coupon_Type</th>\n",
       "      <th>Rating</th>\n",
       "      <th>Industry</th>\n",
       "      <th>Market_Value</th>\n",
       "      <th>OAS</th>\n",
       "      <th>Yield</th>\n",
       "      <th>Duration</th>\n",
       "    </tr>\n",
       "  </thead>\n",
       "  <tbody>\n",
       "    <tr>\n",
       "      <th>0</th>\n",
       "      <td>Ares</td>\n",
       "      <td>CINAVYTI</td>\n",
       "      <td>Loan</td>\n",
       "      <td>Floating</td>\n",
       "      <td>BB</td>\n",
       "      <td>Media</td>\n",
       "      <td>703181</td>\n",
       "      <td>317.0</td>\n",
       "      <td>4.17</td>\n",
       "      <td>0.115</td>\n",
       "    </tr>\n",
       "    <tr>\n",
       "      <th>1</th>\n",
       "      <td>Ares</td>\n",
       "      <td>DUHVUIVB</td>\n",
       "      <td>Bond</td>\n",
       "      <td>Fixed</td>\n",
       "      <td>BB-</td>\n",
       "      <td>Services</td>\n",
       "      <td>955601</td>\n",
       "      <td>387.0</td>\n",
       "      <td>5.87</td>\n",
       "      <td>1.023</td>\n",
       "    </tr>\n",
       "    <tr>\n",
       "      <th>2</th>\n",
       "      <td>Ares</td>\n",
       "      <td>BKJJDAID</td>\n",
       "      <td>Bond</td>\n",
       "      <td>Fixed</td>\n",
       "      <td>CCC</td>\n",
       "      <td>Healthcare</td>\n",
       "      <td>732398</td>\n",
       "      <td>519.0</td>\n",
       "      <td>6.19</td>\n",
       "      <td>6.176</td>\n",
       "    </tr>\n",
       "    <tr>\n",
       "      <th>3</th>\n",
       "      <td>Ares</td>\n",
       "      <td>JKSOSIKI</td>\n",
       "      <td>Bond</td>\n",
       "      <td>Fixed</td>\n",
       "      <td>BB-</td>\n",
       "      <td>Consumer Goods</td>\n",
       "      <td>1885559</td>\n",
       "      <td>588.0</td>\n",
       "      <td>6.88</td>\n",
       "      <td>6.295</td>\n",
       "    </tr>\n",
       "    <tr>\n",
       "      <th>4</th>\n",
       "      <td>Ares</td>\n",
       "      <td>HUIYGUHC</td>\n",
       "      <td>Loan</td>\n",
       "      <td>Floating</td>\n",
       "      <td>B</td>\n",
       "      <td>Financial Services</td>\n",
       "      <td>956697</td>\n",
       "      <td>485.0</td>\n",
       "      <td>6.85</td>\n",
       "      <td>0.236</td>\n",
       "    </tr>\n",
       "  </tbody>\n",
       "</table>\n",
       "</div>"
      ],
      "text/plain": [
       "  Portfolio Primary_Asset_ID Asset_Type Coupon_Type Rating  \\\n",
       "0      Ares         CINAVYTI       Loan    Floating     BB   \n",
       "1      Ares         DUHVUIVB       Bond       Fixed    BB-   \n",
       "2      Ares         BKJJDAID       Bond       Fixed    CCC   \n",
       "3      Ares         JKSOSIKI       Bond       Fixed    BB-   \n",
       "4      Ares         HUIYGUHC       Loan    Floating      B   \n",
       "\n",
       "             Industry  Market_Value    OAS  Yield  Duration  \n",
       "0               Media        703181  317.0   4.17     0.115  \n",
       "1            Services        955601  387.0   5.87     1.023  \n",
       "2          Healthcare        732398  519.0   6.19     6.176  \n",
       "3      Consumer Goods       1885559  588.0   6.88     6.295  \n",
       "4  Financial Services        956697  485.0   6.85     0.236  "
      ]
     },
     "execution_count": 7,
     "metadata": {},
     "output_type": "execute_result"
    }
   ],
   "source": [
    "port.head()"
   ]
  },
  {
   "attachments": {},
   "cell_type": "markdown",
   "metadata": {},
   "source": [
    "### Assumptions Used in Estimation: \n",
    "1. Assume SOFR as benchmark risk free rate \n",
    "2. Assume 3M SOFR rate remains constant over compounding annual period as quoted \n",
    "3. Assume fixed coupon instrustment receives interest payment based on fixed yield \n",
    "4. Assume floating rate instrustment receives interest payment RF (SOFR) + OAS  "
   ]
  },
  {
   "cell_type": "code",
   "execution_count": 1,
   "metadata": {},
   "outputs": [],
   "source": [
    "def estimate_interest_payment(port, annual_rfr): \n",
    "\n",
    "    port_fixed = port[port['Coupon_Type'] == 'Fixed'].copy()\n",
    "    port_float = port[port['Coupon_Type'] == 'Floating'].copy()\n",
    "\n",
    "    port_fixed['Interest_Esimated'] = port_fixed['Yield']/100 * port_fixed['Market_Value']\n",
    "    port_float['Interest_Esimated'] = (port_float['OAS']/10000 + annual_rfr) * port_float['Market_Value']\n",
    "\n",
    "    estimated_interest =  port_fixed['Interest_Esimated'].sum() + port_float['Interest_Esimated'].sum()\n",
    "\n",
    "    return estimated_interest"
   ]
  },
  {
   "cell_type": "code",
   "execution_count": 12,
   "metadata": {},
   "outputs": [
    {
     "name": "stdout",
     "output_type": "stream",
     "text": [
      "estimated annual risk free rate : 0.0546\n"
     ]
    }
   ],
   "source": [
    "annual_rfr = (sofr['3M SOFR'] + 1).cumprod()[3] - 1\n",
    "print(f'estimated annual risk free rate : {round(annual_rfr, 4)}')"
   ]
  },
  {
   "cell_type": "code",
   "execution_count": 13,
   "metadata": {},
   "outputs": [
    {
     "name": "stdout",
     "output_type": "stream",
     "text": [
      "estimated annual interest amount : 11160075.01\n"
     ]
    }
   ],
   "source": [
    "interest = estimate_interest_payment(port, annual_rfr)\n",
    "print(f'estimated annual interest amount : {round(interest, 2)}')\n"
   ]
  }
 ],
 "metadata": {
  "kernelspec": {
   "display_name": ".venv",
   "language": "python",
   "name": "python3"
  },
  "language_info": {
   "codemirror_mode": {
    "name": "ipython",
    "version": 3
   },
   "file_extension": ".py",
   "mimetype": "text/x-python",
   "name": "python",
   "nbconvert_exporter": "python",
   "pygments_lexer": "ipython3",
   "version": "3.6.8"
  },
  "orig_nbformat": 4
 },
 "nbformat": 4,
 "nbformat_minor": 2
}
