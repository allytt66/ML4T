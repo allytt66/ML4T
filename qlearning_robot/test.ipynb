{
 "cells": [
  {
   "cell_type": "code",
   "execution_count": 31,
   "metadata": {},
   "outputs": [],
   "source": [
    "import math  \t\t  \t   \t\t  \t  \t\t\t  \t\t \t\t\t \t \t \t\t \t\t \t \t\t \t\t \t \t\t  \t \t \t\t\t  \t \n",
    "import random as rand  \t\t  \t   \t\t  \t  \t\t\t  \t\t \t\t\t \t \t \t\t \t\t \t \t\t \t\t \t \t\t  \t \t \t\t\t  \t \n",
    "import time  \t\t  \t   \t\t  \t  \t\t\t  \t\t \t\t\t \t \t \t\t \t\t \t \t\t \t\t \t \t\t  \t \t \t\t\t  \t \t\t  \t   \t\t  \t  \t\t\t  \t\t \t\t\t \t \t \t\t \t\t \t \t\t \t\t \t \t\t  \t \t \t\t\t  \t \n",
    "import numpy as np  \t\t  \t   \t\t  \t  \t\t\t  \t\t \t\t\t \t \t \t\t \t\t \t \t\t \t\t \t \t\t  \t \t \t\t\t  \t \t  \t   \t\t  \t  \t\t\t  \t\t \t\t\t \t \t \t\t \t\t \t \t\t \t\t \t \t\t  \t \t \t\t\t  \t \n",
    "import QLearner as ql  \t"
   ]
  },
  {
   "cell_type": "code",
   "execution_count": 32,
   "metadata": {},
   "outputs": [],
   "source": [
    "filename = \"testworlds/world01.csv\"  "
   ]
  },
  {
   "cell_type": "code",
   "execution_count": 33,
   "metadata": {},
   "outputs": [],
   "source": [
    "inf = open(filename)  \t\t  \t   \t\t  \t  \t\t\t  \t\t \t\t\t \t \t \t\t \t\t \t \t\t \t\t \t \t\t  \t \t \t\t\t  \t \n",
    "data = np.array(  \t\t  \t   \t\t  \t  \t\t\t  \t\t \t\t\t \t \t \t\t \t\t \t \t\t \t\t \t \t\t  \t \t \t\t\t  \t \n",
    "        [list(map(float, s.strip().split(\",\"))) for s in inf.readlines()]  \t\t  \t   \t\t  \t  \t\t\t  \t\t \t\t\t \t \t \t\t \t\t \t \t\t \t\t \t \t\t  \t \t \t\t\t  \t \n",
    "    )  \t\t"
   ]
  },
  {
   "cell_type": "code",
   "execution_count": 34,
   "metadata": {},
   "outputs": [],
   "source": [
    "originalmap = (  \t\t  \t   \t\t  \t  \t\t\t  \t\t \t\t\t \t \t \t\t \t\t \t \t\t \t\t \t \t\t  \t \t \t\t\t  \t \n",
    "        data.copy()  \t\t  \t   \t\t  \t  \t\t\t  \t\t \t\t\t \t \t \t\t \t\t \t \t\t \t\t \t \t\t  \t \t \t\t\t  \t \n",
    "    )  # make a copy so we can revert to the original map later  \t\t  \t   \t\t  \t  \t\t\t  \t\t \t\t\t \t \t \t\t \t\t \t \t\t \t\t \t \t\t  \t \t \t\t\t  \t \n",
    "  \t\t  \t   \t\t  \t  \t\t\t  \t\t \t\t\t \t \t"
   ]
  },
  {
   "cell_type": "code",
   "execution_count": 35,
   "metadata": {},
   "outputs": [
    {
     "data": {
      "text/plain": [
       "array([[3., 0., 0., 0., 0., 0., 0., 0., 0., 0.],\n",
       "       [0., 0., 0., 0., 0., 0., 0., 0., 0., 0.],\n",
       "       [0., 0., 0., 0., 0., 0., 0., 0., 0., 0.],\n",
       "       [0., 0., 1., 1., 1., 1., 1., 0., 0., 0.],\n",
       "       [0., 5., 1., 0., 0., 0., 1., 0., 0., 0.],\n",
       "       [0., 5., 1., 0., 0., 0., 1., 0., 0., 0.],\n",
       "       [0., 0., 1., 0., 0., 0., 1., 0., 0., 0.],\n",
       "       [0., 0., 0., 0., 0., 0., 0., 0., 0., 0.],\n",
       "       [0., 0., 0., 0., 0., 0., 0., 0., 0., 0.],\n",
       "       [0., 0., 0., 0., 2., 0., 0., 0., 0., 0.]])"
      ]
     },
     "execution_count": 35,
     "metadata": {},
     "output_type": "execute_result"
    }
   ],
   "source": [
    "originalmap\t\t  \t   \t\t  \t  \t\t\t  \t\t \t\t\t \t \t \t\t \t\t \t \t\t \t\t \t \t\t  \t \t \t\t\t  "
   ]
  },
  {
   "cell_type": "code",
   "execution_count": 44,
   "metadata": {},
   "outputs": [],
   "source": [
    "learner = ql.QLearner(  \t\t  \t   \t\t  \t  \t\t\t  \t\t \t\t\t \t \t \t\t \t\t \t \t\t \t\t \t \t\t  \t \t \t\t\t  \t \n",
    "        num_states=100,  \t\t  \t   \t\t  \t  \t\t\t  \t\t \t\t\t \t \t \t\t \t\t \t \t\t \t\t \t \t\t  \t \t \t\t\t  \t \n",
    "        num_actions=4,  \t\t  \t   \t\t  \t  \t\t\t  \t\t \t\t\t \t \t \t\t \t\t \t \t\t \t\t \t \t\t  \t \t \t\t\t  \t \n",
    "        alpha=0.2,  \t\t  \t   \t\t  \t  \t\t\t  \t\t \t\t\t \t \t \t\t \t\t \t \t\t \t\t \t \t\t  \t \t \t\t\t  \t \n",
    "        gamma=0.9,  \t\t  \t   \t\t  \t  \t\t\t  \t\t \t\t\t \t \t \t\t \t\t \t \t\t \t\t \t \t\t  \t \t \t\t\t  \t \n",
    "        rar=0.98,  \t\t  \t   \t\t  \t  \t\t\t  \t\t \t\t\t \t \t \t\t \t\t \t \t\t \t\t \t \t\t  \t \t \t\t\t  \t \n",
    "        radr=0.999,  \t\t  \t   \t\t  \t  \t\t\t  \t\t \t\t\t \t \t \t\t \t\t \t \t\t \t\t \t \t\t  \t \t \t\t\t  \t \n",
    "        dyna=0,  \t\t  \t   \t\t  \t  \t\t\t  \t\t \t\t\t \t \t \t\t \t\t \t \t\t \t\t \t \t\t  \t \t \t\t\t  \t \n",
    "        verbose=False,  \t\t  \t   \t\t  \t  \t\t\t  \t\t \t\t\t \t \t \t\t \t\t \t \t\t \t\t \t \t\t  \t \t \t\t\t  \t \n",
    "    ) \n",
    "\n",
    "epochs = 500"
   ]
  },
  {
   "cell_type": "code",
   "execution_count": 45,
   "metadata": {},
   "outputs": [],
   "source": [
    "startpos = getrobotpos(data)\n",
    "goalpost = getgoalpos(data)\n",
    "scores = np.zeros((epochs,1))"
   ]
  },
  {
   "cell_type": "code",
   "execution_count": 40,
   "metadata": {},
   "outputs": [
    {
     "data": {
      "text/plain": [
       "(9, 4)"
      ]
     },
     "execution_count": 40,
     "metadata": {},
     "output_type": "execute_result"
    }
   ],
   "source": [
    "startpos"
   ]
  },
  {
   "cell_type": "code",
   "execution_count": 46,
   "metadata": {},
   "outputs": [],
   "source": [
    "state = discretize(startpos)"
   ]
  },
  {
   "cell_type": "code",
   "execution_count": 47,
   "metadata": {},
   "outputs": [
    {
     "data": {
      "text/plain": [
       "94"
      ]
     },
     "execution_count": 47,
     "metadata": {},
     "output_type": "execute_result"
    }
   ],
   "source": [
    "state"
   ]
  },
  {
   "cell_type": "code",
   "execution_count": 62,
   "metadata": {},
   "outputs": [],
   "source": [
    "action = learner.querysetstate(94)"
   ]
  },
  {
   "cell_type": "code",
   "execution_count": 63,
   "metadata": {},
   "outputs": [
    {
     "data": {
      "text/plain": [
       "3"
      ]
     },
     "execution_count": 63,
     "metadata": {},
     "output_type": "execute_result"
    }
   ],
   "source": [
    "action"
   ]
  },
  {
   "cell_type": "code",
   "execution_count": 65,
   "metadata": {},
   "outputs": [],
   "source": [
    "newpos, stepreward = movebot(data, startpos, action )"
   ]
  },
  {
   "cell_type": "code",
   "execution_count": 79,
   "metadata": {},
   "outputs": [
    {
     "data": {
      "text/plain": [
       "95"
      ]
     },
     "execution_count": 79,
     "metadata": {},
     "output_type": "execute_result"
    }
   ],
   "source": [
    "discretize(newpos)"
   ]
  },
  {
   "cell_type": "code",
   "execution_count": 80,
   "metadata": {},
   "outputs": [
    {
     "data": {
      "text/plain": [
       "3"
      ]
     },
     "execution_count": 80,
     "metadata": {},
     "output_type": "execute_result"
    }
   ],
   "source": [
    "learner.query(discretize(newpos), stepreward)"
   ]
  },
  {
   "cell_type": "code",
   "execution_count": 84,
   "metadata": {},
   "outputs": [],
   "source": [
    "newpos, stepreward = movebot(data, newpos, 2 )"
   ]
  },
  {
   "cell_type": "code",
   "execution_count": 85,
   "metadata": {},
   "outputs": [
    {
     "data": {
      "text/plain": [
       "array([0., 0., 0., 0.])"
      ]
     },
     "execution_count": 85,
     "metadata": {},
     "output_type": "execute_result"
    }
   ],
   "source": [
    "learner.q[95]"
   ]
  },
  {
   "cell_type": "code",
   "execution_count": 69,
   "metadata": {},
   "outputs": [
    {
     "data": {
      "text/plain": [
       "93"
      ]
     },
     "execution_count": 69,
     "metadata": {},
     "output_type": "execute_result"
    }
   ],
   "source": [
    "discretize(newpos)"
   ]
  },
  {
   "cell_type": "code",
   "execution_count": 90,
   "metadata": {},
   "outputs": [],
   "source": [
    "from collections import namedtuple\n",
    "\n",
    "Experience = namedtuple(\"Experience\", [\"s\", \"a\", \"s_prime\", \"r\"])"
   ]
  },
  {
   "cell_type": "code",
   "execution_count": 91,
   "metadata": {},
   "outputs": [],
   "source": [
    "ex = Experience(0, 1, 2, -0.1)"
   ]
  },
  {
   "cell_type": "code",
   "execution_count": 93,
   "metadata": {},
   "outputs": [],
   "source": [
    "ex2 = Experience(0, 2, 3, -0.1)"
   ]
  },
  {
   "cell_type": "code",
   "execution_count": 92,
   "metadata": {},
   "outputs": [
    {
     "data": {
      "text/plain": [
       "Experience(s=0, a=1, s_prime=2, r=-0.1)"
      ]
     },
     "execution_count": 92,
     "metadata": {},
     "output_type": "execute_result"
    }
   ],
   "source": [
    "ex"
   ]
  },
  {
   "cell_type": "code",
   "execution_count": 97,
   "metadata": {},
   "outputs": [],
   "source": [
    "import random as rand"
   ]
  },
  {
   "cell_type": "code",
   "execution_count": 101,
   "metadata": {},
   "outputs": [
    {
     "data": {
      "text/plain": [
       "Experience(s=0, a=2, s_prime=3, r=-0.1)"
      ]
     },
     "execution_count": 101,
     "metadata": {},
     "output_type": "execute_result"
    }
   ],
   "source": [
    "rand.choice([ex, ex2])"
   ]
  },
  {
   "cell_type": "code",
   "execution_count": 110,
   "metadata": {},
   "outputs": [],
   "source": [
    "a = [ex, ex2].extend([ex2])"
   ]
  },
  {
   "cell_type": "code",
   "execution_count": 117,
   "metadata": {},
   "outputs": [],
   "source": [
    "history = [ex, ex2]"
   ]
  },
  {
   "cell_type": "code",
   "execution_count": 118,
   "metadata": {},
   "outputs": [],
   "source": [
    "history.extend([ex])"
   ]
  },
  {
   "cell_type": "code",
   "execution_count": 120,
   "metadata": {},
   "outputs": [
    {
     "data": {
      "text/plain": [
       "1"
      ]
     },
     "execution_count": 120,
     "metadata": {},
     "output_type": "execute_result"
    }
   ],
   "source": [
    "history[0].a"
   ]
  },
  {
   "cell_type": "code",
   "execution_count": null,
   "metadata": {},
   "outputs": [],
   "source": []
  },
  {
   "cell_type": "code",
   "execution_count": null,
   "metadata": {},
   "outputs": [],
   "source": []
  },
  {
   "cell_type": "code",
   "execution_count": null,
   "metadata": {},
   "outputs": [],
   "source": []
  },
  {
   "cell_type": "code",
   "execution_count": null,
   "metadata": {},
   "outputs": [],
   "source": []
  },
  {
   "cell_type": "code",
   "execution_count": null,
   "metadata": {},
   "outputs": [],
   "source": []
  },
  {
   "cell_type": "code",
   "execution_count": 37,
   "metadata": {},
   "outputs": [],
   "source": [
    "def printmap(data):  \t\t  \t   \t\t  \t  \t\t\t  \t\t \t\t\t \t \t \t\t \t\t \t \t\t \t\t \t \t\t  \t \t \t\t\t  \t \n",
    "    \"\"\"  \t\t  \t   \t\t  \t  \t\t\t  \t\t \t\t\t \t \t \t\t \t\t \t \t\t \t\t \t \t\t  \t \t \t\t\t  \t \n",
    "    Prints out the map  \t\t  \t   \t\t  \t  \t\t\t  \t\t \t\t\t \t \t \t\t \t\t \t \t\t \t\t \t \t\t  \t \t \t\t\t  \t \n",
    "  \t\t  \t   \t\t  \t  \t\t\t  \t\t \t\t\t \t \t \t\t \t\t \t \t\t \t\t \t \t\t  \t \t \t\t\t  \t \n",
    "    :param data: 2D array that stores the map  \t\t  \t   \t\t  \t  \t\t\t  \t\t \t\t\t \t \t \t\t \t\t \t \t\t \t\t \t \t\t  \t \t \t\t\t  \t \n",
    "    :type data: array  \t\t  \t   \t\t  \t  \t\t\t  \t\t \t\t\t \t \t \t\t \t\t \t \t\t \t\t \t \t\t  \t \t \t\t\t  \t \n",
    "    \"\"\"  \t\t  \t   \t\t  \t  \t\t\t  \t\t \t\t\t \t \t \t\t \t\t \t \t\t \t\t \t \t\t  \t \t \t\t\t  \t \n",
    "    print(\"--------------------\")  \t\t  \t   \t\t  \t  \t\t\t  \t\t \t\t\t \t \t \t\t \t\t \t \t\t \t\t \t \t\t  \t \t \t\t\t  \t \n",
    "    for row in range(0, data.shape[0]):  \t\t  \t   \t\t  \t  \t\t\t  \t\t \t\t\t \t \t \t\t \t\t \t \t\t \t\t \t \t\t  \t \t \t\t\t  \t \n",
    "        for col in range(0, data.shape[1]):  \t\t  \t   \t\t  \t  \t\t\t  \t\t \t\t\t \t \t \t\t \t\t \t \t\t \t\t \t \t\t  \t \t \t\t\t  \t \n",
    "            if data[row, col] == 0:  # Empty space  \t\t  \t   \t\t  \t  \t\t\t  \t\t \t\t\t \t \t \t\t \t\t \t \t\t \t\t \t \t\t  \t \t \t\t\t  \t \n",
    "                print(\" \", end=\" \")  \t\t  \t   \t\t  \t  \t\t\t  \t\t \t\t\t \t \t \t\t \t\t \t \t\t \t\t \t \t\t  \t \t \t\t\t  \t \n",
    "            if data[row, col] == 1:  # Obstacle  \t\t  \t   \t\t  \t  \t\t\t  \t\t \t\t\t \t \t \t\t \t\t \t \t\t \t\t \t \t\t  \t \t \t\t\t  \t \n",
    "                print(\"O\", end=\" \")  \t\t  \t   \t\t  \t  \t\t\t  \t\t \t\t\t \t \t \t\t \t\t \t \t\t \t\t \t \t\t  \t \t \t\t\t  \t \n",
    "            if data[row, col] == 2:  # El roboto  \t\t  \t   \t\t  \t  \t\t\t  \t\t \t\t\t \t \t \t\t \t\t \t \t\t \t\t \t \t\t  \t \t \t\t\t  \t \n",
    "                print(\"*\", end=\" \")  \t\t  \t   \t\t  \t  \t\t\t  \t\t \t\t\t \t \t \t\t \t\t \t \t\t \t\t \t \t\t  \t \t \t\t\t  \t \n",
    "            if data[row, col] == 3:  # Goal  \t\t  \t   \t\t  \t  \t\t\t  \t\t \t\t\t \t \t \t\t \t\t \t \t\t \t\t \t \t\t  \t \t \t\t\t  \t \n",
    "                print(\"X\", end=\" \")  \t\t  \t   \t\t  \t  \t\t\t  \t\t \t\t\t \t \t \t\t \t\t \t \t\t \t\t \t \t\t  \t \t \t\t\t  \t \n",
    "            if data[row, col] == 4:  # Trail  \t\t  \t   \t\t  \t  \t\t\t  \t\t \t\t\t \t \t \t\t \t\t \t \t\t \t\t \t \t\t  \t \t \t\t\t  \t \n",
    "                print(\".\", end=\" \")  \t\t  \t   \t\t  \t  \t\t\t  \t\t \t\t\t \t \t \t\t \t\t \t \t\t \t\t \t \t\t  \t \t \t\t\t  \t \n",
    "            if data[row, col] == 5:  # Quick sand  \t\t  \t   \t\t  \t  \t\t\t  \t\t \t\t\t \t \t \t\t \t\t \t \t\t \t\t \t \t\t  \t \t \t\t\t  \t \n",
    "                print(\"~\", end=\" \")  \t\t  \t   \t\t  \t  \t\t\t  \t\t \t\t\t \t \t \t\t \t\t \t \t\t \t\t \t \t\t  \t \t \t\t\t  \t \n",
    "            if data[row, col] == 6:  # Stepped in quicksand  \t\t  \t   \t\t  \t  \t\t\t  \t\t \t\t\t \t \t \t\t \t\t \t \t\t \t\t \t \t\t  \t \t \t\t\t  \t \n",
    "                print(\"@\", end=\" \")  \t\t  \t   \t\t  \t  \t\t\t  \t\t \t\t\t \t \t \t\t \t\t \t \t\t \t\t \t \t\t  \t \t \t\t\t  \t \n",
    "        print()  \t\t  \t   \t\t  \t  \t\t\t  \t\t \t\t\t \t \t \t\t \t\t \t \t\t \t\t \t \t\t  \t \t \t\t\t  \t \n",
    "    print(\"--------------------\")  \t\t  \t   \t\t  \t  \t\t\t  \t\t \t\t\t \t \t \t\t \t\t \t \t\t \t\t \t \t\t  \t \t \t\t\t  \t \n",
    "  \t\t  \t   \t\t  \t  \t\t\t  \t\t \t\t\t \t \t \t\t \t\t \t \t\t \t\t \t \t\t  \t \t \t\t\t  \t \n",
    "  \t\t  \t   \t\t  \t  \t\t\t  \t\t \t\t\t \t \t \t\t \t\t \t \t\t \t\t \t \t\t  \t \t \t\t\t  \t \n",
    "def getrobotpos(data):  \t\t  \t   \t\t  \t  \t\t\t  \t\t \t\t\t \t \t \t\t \t\t \t \t\t \t\t \t \t\t  \t \t \t\t\t  \t \n",
    "    \"\"\"  \t\t  \t   \t\t  \t  \t\t\t  \t\t \t\t\t \t \t \t\t \t\t \t \t\t \t\t \t \t\t  \t \t \t\t\t  \t \n",
    "    Finds where the robot is in the map  \t\t  \t   \t\t  \t  \t\t\t  \t\t \t\t\t \t \t \t\t \t\t \t \t\t \t\t \t \t\t  \t \t \t\t\t  \t \n",
    "  \t\t  \t   \t\t  \t  \t\t\t  \t\t \t\t\t \t \t \t\t \t\t \t \t\t \t\t \t \t\t  \t \t \t\t\t  \t \n",
    "    :param data: 2D array that stores the map  \t\t  \t   \t\t  \t  \t\t\t  \t\t \t\t\t \t \t \t\t \t\t \t \t\t \t\t \t \t\t  \t \t \t\t\t  \t \n",
    "    :type data: array  \t\t  \t   \t\t  \t  \t\t\t  \t\t \t\t\t \t \t \t\t \t\t \t \t\t \t\t \t \t\t  \t \t \t\t\t  \t \n",
    "    :return: the position of the robot  \t\t  \t   \t\t  \t  \t\t\t  \t\t \t\t\t \t \t \t\t \t\t \t \t\t \t\t \t \t\t  \t \t \t\t\t  \t \n",
    "    :rtype: int, int  \t\t  \t   \t\t  \t  \t\t\t  \t\t \t\t\t \t \t \t\t \t\t \t \t\t \t\t \t \t\t  \t \t \t\t\t  \t \n",
    "    \"\"\"  \t\t  \t   \t\t  \t  \t\t\t  \t\t \t\t\t \t \t \t\t \t\t \t \t\t \t\t \t \t\t  \t \t \t\t\t  \t \n",
    "    R = -999  \t\t  \t   \t\t  \t  \t\t\t  \t\t \t\t\t \t \t \t\t \t\t \t \t\t \t\t \t \t\t  \t \t \t\t\t  \t \n",
    "    C = -999  \t\t  \t   \t\t  \t  \t\t\t  \t\t \t\t\t \t \t \t\t \t\t \t \t\t \t\t \t \t\t  \t \t \t\t\t  \t \n",
    "    for row in range(0, data.shape[0]):  \t\t  \t   \t\t  \t  \t\t\t  \t\t \t\t\t \t \t \t\t \t\t \t \t\t \t\t \t \t\t  \t \t \t\t\t  \t \n",
    "        for col in range(0, data.shape[1]):  \t\t  \t   \t\t  \t  \t\t\t  \t\t \t\t\t \t \t \t\t \t\t \t \t\t \t\t \t \t\t  \t \t \t\t\t  \t \n",
    "            if data[row, col] == 2:  \t\t  \t   \t\t  \t  \t\t\t  \t\t \t\t\t \t \t \t\t \t\t \t \t\t \t\t \t \t\t  \t \t \t\t\t  \t \n",
    "                C = col  \t\t  \t   \t\t  \t  \t\t\t  \t\t \t\t\t \t \t \t\t \t\t \t \t\t \t\t \t \t\t  \t \t \t\t\t  \t \n",
    "                R = row  \t\t  \t   \t\t  \t  \t\t\t  \t\t \t\t\t \t \t \t\t \t\t \t \t\t \t\t \t \t\t  \t \t \t\t\t  \t \n",
    "    if (R + C) < 0:  \t\t  \t   \t\t  \t  \t\t\t  \t\t \t\t\t \t \t \t\t \t\t \t \t\t \t\t \t \t\t  \t \t \t\t\t  \t \n",
    "        print(\"warning: start location not defined\")  \t\t  \t   \t\t  \t  \t\t\t  \t\t \t\t\t \t \t \t\t \t\t \t \t\t \t\t \t \t\t  \t \t \t\t\t  \t \n",
    "    return R, C  \t\t  \t   \t\t  \t  \t\t\t  \t\t \t\t\t \t \t \t\t \t\t \t \t\t \t\t \t \t\t  \t \t \t\t\t  \t \n",
    "  \t\t  \t   \t\t  \t  \t\t\t  \t\t \t\t\t \t \t \t\t \t\t \t \t\t \t\t \t \t\t  \t \t \t\t\t  \t \n",
    "  \t\t  \t   \t\t  \t  \t\t\t  \t\t \t\t\t \t \t \t\t \t\t \t \t\t \t\t \t \t\t  \t \t \t\t\t  \t \n",
    "def getgoalpos(data):  \t\t  \t   \t\t  \t  \t\t\t  \t\t \t\t\t \t \t \t\t \t\t \t \t\t \t\t \t \t\t  \t \t \t\t\t  \t \n",
    "    \"\"\"  \t\t  \t   \t\t  \t  \t\t\t  \t\t \t\t\t \t \t \t\t \t\t \t \t\t \t\t \t \t\t  \t \t \t\t\t  \t \n",
    "    find where the goal is in the map  \t\t  \t   \t\t  \t  \t\t\t  \t\t \t\t\t \t \t \t\t \t\t \t \t\t \t\t \t \t\t  \t \t \t\t\t  \t \n",
    "  \t\t  \t   \t\t  \t  \t\t\t  \t\t \t\t\t \t \t \t\t \t\t \t \t\t \t\t \t \t\t  \t \t \t\t\t  \t \n",
    "    :param data: 2D array that stores the map  \t\t  \t   \t\t  \t  \t\t\t  \t\t \t\t\t \t \t \t\t \t\t \t \t\t \t\t \t \t\t  \t \t \t\t\t  \t \n",
    "    :type data: array  \t\t  \t   \t\t  \t  \t\t\t  \t\t \t\t\t \t \t \t\t \t\t \t \t\t \t\t \t \t\t  \t \t \t\t\t  \t \n",
    "    :return: the position of the goal  \t\t  \t   \t\t  \t  \t\t\t  \t\t \t\t\t \t \t \t\t \t\t \t \t\t \t\t \t \t\t  \t \t \t\t\t  \t \n",
    "    :rtype: tuple(int, int)  \t\t  \t   \t\t  \t  \t\t\t  \t\t \t\t\t \t \t \t\t \t\t \t \t\t \t\t \t \t\t  \t \t \t\t\t  \t \n",
    "    \"\"\"  \t\t  \t   \t\t  \t  \t\t\t  \t\t \t\t\t \t \t \t\t \t\t \t \t\t \t\t \t \t\t  \t \t \t\t\t  \t \n",
    "    R = -999  \t\t  \t   \t\t  \t  \t\t\t  \t\t \t\t\t \t \t \t\t \t\t \t \t\t \t\t \t \t\t  \t \t \t\t\t  \t \n",
    "    C = -999  \t\t  \t   \t\t  \t  \t\t\t  \t\t \t\t\t \t \t \t\t \t\t \t \t\t \t\t \t \t\t  \t \t \t\t\t  \t \n",
    "    for row in range(0, data.shape[0]):  \t\t  \t   \t\t  \t  \t\t\t  \t\t \t\t\t \t \t \t\t \t\t \t \t\t \t\t \t \t\t  \t \t \t\t\t  \t \n",
    "        for col in range(0, data.shape[1]):  \t\t  \t   \t\t  \t  \t\t\t  \t\t \t\t\t \t \t \t\t \t\t \t \t\t \t\t \t \t\t  \t \t \t\t\t  \t \n",
    "            if data[row, col] == 3:  \t\t  \t   \t\t  \t  \t\t\t  \t\t \t\t\t \t \t \t\t \t\t \t \t\t \t\t \t \t\t  \t \t \t\t\t  \t \n",
    "                C = col  \t\t  \t   \t\t  \t  \t\t\t  \t\t \t\t\t \t \t \t\t \t\t \t \t\t \t\t \t \t\t  \t \t \t\t\t  \t \n",
    "                R = row  \t\t  \t   \t\t  \t  \t\t\t  \t\t \t\t\t \t \t \t\t \t\t \t \t\t \t\t \t \t\t  \t \t \t\t\t  \t \n",
    "    if (R + C) < 0:  \t\t  \t   \t\t  \t  \t\t\t  \t\t \t\t\t \t \t \t\t \t\t \t \t\t \t\t \t \t\t  \t \t \t\t\t  \t \n",
    "        print(\"warning: goal location not defined\")  \t\t  \t   \t\t  \t  \t\t\t  \t\t \t\t\t \t \t \t\t \t\t \t \t\t \t\t \t \t\t  \t \t \t\t\t  \t \n",
    "    return (R, C)  \t\t  \t   \t\t  \t  \t\t\t  \t\t \t\t\t \t \t \t\t \t\t \t \t\t \t\t \t \t\t  \t \t \t\t\t  \t \n",
    "  \t\t  \t   \t\t  \t  \t\t\t  \t\t \t\t\t \t \t \t\t \t\t \t \t\t \t\t \t \t\t  \t \t \t\t\t  \t \n",
    "def movebot(data, oldpos, a):  \t\t  \t   \t\t  \t  \t\t\t  \t\t \t\t\t \t \t \t\t \t\t \t \t\t \t\t \t \t\t  \t \t \t\t\t  \t \n",
    "    \"\"\"  \t\t  \t   \t\t  \t  \t\t\t  \t\t \t\t\t \t \t \t\t \t\t \t \t\t \t\t \t \t\t  \t \t \t\t\t  \t \n",
    "    move the robot and report reward  \t\t  \t   \t\t  \t  \t\t\t  \t\t \t\t\t \t \t \t\t \t\t \t \t\t \t\t \t \t\t  \t \t \t\t\t  \t \n",
    "  \t\t  \t   \t\t  \t  \t\t\t  \t\t \t\t\t \t \t \t\t \t\t \t \t\t \t\t \t \t\t  \t \t \t\t\t  \t \n",
    "    :param data: 2D array that stores the map  \t\t  \t   \t\t  \t  \t\t\t  \t\t \t\t\t \t \t \t\t \t\t \t \t\t \t\t \t \t\t  \t \t \t\t\t  \t \n",
    "    :type data: array  \t\t  \t   \t\t  \t  \t\t\t  \t\t \t\t\t \t \t \t\t \t\t \t \t\t \t\t \t \t\t  \t \t \t\t\t  \t \n",
    "    :param oldpos: old position of the robot  \t\t  \t   \t\t  \t  \t\t\t  \t\t \t\t\t \t \t \t\t \t\t \t \t\t \t\t \t \t\t  \t \t \t\t\t  \t \n",
    "    :type oldpos: int, int  \t\t  \t   \t\t  \t  \t\t\t  \t\t \t\t\t \t \t \t\t \t\t \t \t\t \t\t \t \t\t  \t \t \t\t\t  \t \n",
    "    :param a: the action to take  \t\t  \t   \t\t  \t  \t\t\t  \t\t \t\t\t \t \t \t\t \t\t \t \t\t \t\t \t \t\t  \t \t \t\t\t  \t \n",
    "    :type a: int  \t\t  \t   \t\t  \t  \t\t\t  \t\t \t\t\t \t \t \t\t \t\t \t \t\t \t\t \t \t\t  \t \t \t\t\t  \t \n",
    "    :return: the new position of the robot and the reward  \t\t  \t   \t\t  \t  \t\t\t  \t\t \t\t\t \t \t \t\t \t\t \t \t\t \t\t \t \t\t  \t \t \t\t\t  \t \n",
    "    :rtype: tuple(int, int), int  \t\t  \t   \t\t  \t  \t\t\t  \t\t \t\t\t \t \t \t\t \t\t \t \t\t \t\t \t \t\t  \t \t \t\t\t  \t \n",
    "    \"\"\"  \t\t  \t   \t\t  \t  \t\t\t  \t\t \t\t\t \t \t \t\t \t\t \t \t\t \t\t \t \t\t  \t \t \t\t\t  \t \n",
    "    testr, testc = oldpos  \t\t  \t   \t\t  \t  \t\t\t  \t\t \t\t\t \t \t \t\t \t\t \t \t\t \t\t \t \t\t  \t \t \t\t\t  \t \n",
    "  \t\t  \t   \t\t  \t  \t\t\t  \t\t \t\t\t \t \t \t\t \t\t \t \t\t \t\t \t \t\t  \t \t \t\t\t  \t \n",
    "    randomrate = 0.20  # how often do we move randomly  \t\t  \t   \t\t  \t  \t\t\t  \t\t \t\t\t \t \t \t\t \t\t \t \t\t \t\t \t \t\t  \t \t \t\t\t  \t \n",
    "    quicksandreward = -100  # penalty for stepping on quicksand  \t\t  \t   \t\t  \t  \t\t\t  \t\t \t\t\t \t \t \t\t \t\t \t \t\t \t\t \t \t\t  \t \t \t\t\t  \t \n",
    "  \t\t  \t   \t\t  \t  \t\t\t  \t\t \t\t\t \t \t \t\t \t\t \t \t\t \t\t \t \t\t  \t \t \t\t\t  \t \n",
    "    # decide if we're going to ignore the action and  \t\t  \t   \t\t  \t  \t\t\t  \t\t \t\t\t \t \t \t\t \t\t \t \t\t \t\t \t \t\t  \t \t \t\t\t  \t \n",
    "    # choose a random one instead  \t\t  \t   \t\t  \t  \t\t\t  \t\t \t\t\t \t \t \t\t \t\t \t \t\t \t\t \t \t\t  \t \t \t\t\t  \t \n",
    "    if rand.uniform(0.0, 1.0) <= randomrate:  # going rogue  \t\t  \t   \t\t  \t  \t\t\t  \t\t \t\t\t \t \t \t\t \t\t \t \t\t \t\t \t \t\t  \t \t \t\t\t  \t \n",
    "        a = rand.randint(0, 3)  # choose the random direction  \t\t  \t   \t\t  \t  \t\t\t  \t\t \t\t\t \t \t \t\t \t\t \t \t\t \t\t \t \t\t  \t \t \t\t\t  \t \n",
    "  \t\t  \t   \t\t  \t  \t\t\t  \t\t \t\t\t \t \t \t\t \t\t \t \t\t \t\t \t \t\t  \t \t \t\t\t  \t \n",
    "    # update the test location  \t\t  \t   \t\t  \t  \t\t\t  \t\t \t\t\t \t \t \t\t \t\t \t \t\t \t\t \t \t\t  \t \t \t\t\t  \t \n",
    "    if a == 0:  # north  \t\t  \t   \t\t  \t  \t\t\t  \t\t \t\t\t \t \t \t\t \t\t \t \t\t \t\t \t \t\t  \t \t \t\t\t  \t \n",
    "        testr = testr - 1  \t\t  \t   \t\t  \t  \t\t\t  \t\t \t\t\t \t \t \t\t \t\t \t \t\t \t\t \t \t\t  \t \t \t\t\t  \t \n",
    "    elif a == 1:  # east  \t\t  \t   \t\t  \t  \t\t\t  \t\t \t\t\t \t \t \t\t \t\t \t \t\t \t\t \t \t\t  \t \t \t\t\t  \t \n",
    "        testc = testc + 1  \t\t  \t   \t\t  \t  \t\t\t  \t\t \t\t\t \t \t \t\t \t\t \t \t\t \t\t \t \t\t  \t \t \t\t\t  \t \n",
    "    elif a == 2:  # south  \t\t  \t   \t\t  \t  \t\t\t  \t\t \t\t\t \t \t \t\t \t\t \t \t\t \t\t \t \t\t  \t \t \t\t\t  \t \n",
    "        testr = testr + 1  \t\t  \t   \t\t  \t  \t\t\t  \t\t \t\t\t \t \t \t\t \t\t \t \t\t \t\t \t \t\t  \t \t \t\t\t  \t \n",
    "    elif a == 3:  # west  \t\t  \t   \t\t  \t  \t\t\t  \t\t \t\t\t \t \t \t\t \t\t \t \t\t \t\t \t \t\t  \t \t \t\t\t  \t \n",
    "        testc = testc - 1  \t\t  \t   \t\t  \t  \t\t\t  \t\t \t\t\t \t \t \t\t \t\t \t \t\t \t\t \t \t\t  \t \t \t\t\t  \t \n",
    "  \t\t  \t   \t\t  \t  \t\t\t  \t\t \t\t\t \t \t \t\t \t\t \t \t\t \t\t \t \t\t  \t \t \t\t\t  \t \n",
    "    reward = -1  # default reward is negative one  \t\t  \t   \t\t  \t  \t\t\t  \t\t \t\t\t \t \t \t\t \t\t \t \t\t \t\t \t \t\t  \t \t \t\t\t  \t \n",
    "    # see if it is legal. if not, revert  \t\t  \t   \t\t  \t  \t\t\t  \t\t \t\t\t \t \t \t\t \t\t \t \t\t \t\t \t \t\t  \t \t \t\t\t  \t \n",
    "    if testr < 0:  # off the map  \t\t  \t   \t\t  \t  \t\t\t  \t\t \t\t\t \t \t \t\t \t\t \t \t\t \t\t \t \t\t  \t \t \t\t\t  \t \n",
    "        testr, testc = oldpos  \t\t  \t   \t\t  \t  \t\t\t  \t\t \t\t\t \t \t \t\t \t\t \t \t\t \t\t \t \t\t  \t \t \t\t\t  \t \n",
    "    elif testr >= data.shape[0]:  # off the map  \t\t  \t   \t\t  \t  \t\t\t  \t\t \t\t\t \t \t \t\t \t\t \t \t\t \t\t \t \t\t  \t \t \t\t\t  \t \n",
    "        testr, testc = oldpos  \t\t  \t   \t\t  \t  \t\t\t  \t\t \t\t\t \t \t \t\t \t\t \t \t\t \t\t \t \t\t  \t \t \t\t\t  \t \n",
    "    elif testc < 0:  # off the map  \t\t  \t   \t\t  \t  \t\t\t  \t\t \t\t\t \t \t \t\t \t\t \t \t\t \t\t \t \t\t  \t \t \t\t\t  \t \n",
    "        testr, testc = oldpos  \t\t  \t   \t\t  \t  \t\t\t  \t\t \t\t\t \t \t \t\t \t\t \t \t\t \t\t \t \t\t  \t \t \t\t\t  \t \n",
    "    elif testc >= data.shape[1]:  # off the map  \t\t  \t   \t\t  \t  \t\t\t  \t\t \t\t\t \t \t \t\t \t\t \t \t\t \t\t \t \t\t  \t \t \t\t\t  \t \n",
    "        testr, testc = oldpos  \t\t  \t   \t\t  \t  \t\t\t  \t\t \t\t\t \t \t \t\t \t\t \t \t\t \t\t \t \t\t  \t \t \t\t\t  \t \n",
    "    elif data[testr, testc] == 1:  # it is an obstacle  \t\t  \t   \t\t  \t  \t\t\t  \t\t \t\t\t \t \t \t\t \t\t \t \t\t \t\t \t \t\t  \t \t \t\t\t  \t \n",
    "        testr, testc = oldpos  \t\t  \t   \t\t  \t  \t\t\t  \t\t \t\t\t \t \t \t\t \t\t \t \t\t \t\t \t \t\t  \t \t \t\t\t  \t \n",
    "    elif data[testr, testc] == 5:  # it is quicksand  \t\t  \t   \t\t  \t  \t\t\t  \t\t \t\t\t \t \t \t\t \t\t \t \t\t \t\t \t \t\t  \t \t \t\t\t  \t \n",
    "        reward = quicksandreward  \t\t  \t   \t\t  \t  \t\t\t  \t\t \t\t\t \t \t \t\t \t\t \t \t\t \t\t \t \t\t  \t \t \t\t\t  \t \n",
    "        data[testr, testc] = 6  # mark the event  \t\t  \t   \t\t  \t  \t\t\t  \t\t \t\t\t \t \t \t\t \t\t \t \t\t \t\t \t \t\t  \t \t \t\t\t  \t \n",
    "    elif data[testr, testc] == 6:  # it is still quicksand  \t\t  \t   \t\t  \t  \t\t\t  \t\t \t\t\t \t \t \t\t \t\t \t \t\t \t\t \t \t\t  \t \t \t\t\t  \t \n",
    "        reward = quicksandreward  \t\t  \t   \t\t  \t  \t\t\t  \t\t \t\t\t \t \t \t\t \t\t \t \t\t \t\t \t \t\t  \t \t \t\t\t  \t \n",
    "        data[testr, testc] = 6  # mark the event  \t\t  \t   \t\t  \t  \t\t\t  \t\t \t\t\t \t \t \t\t \t\t \t \t\t \t\t \t \t\t  \t \t \t\t\t  \t \n",
    "    elif data[testr, testc] == 3:  # it is the goal  \t\t  \t   \t\t  \t  \t\t\t  \t\t \t\t\t \t \t \t\t \t\t \t \t\t \t\t \t \t\t  \t \t \t\t\t  \t \n",
    "        reward = 1  # for reaching the goal  \t\t  \t   \t\t  \t  \t\t\t  \t\t \t\t\t \t \t \t\t \t\t \t \t\t \t\t \t \t\t  \t \t \t\t\t  \t \n",
    "  \t\t  \t   \t\t  \t  \t\t\t  \t\t \t\t\t \t \t \t\t \t\t \t \t\t \t\t \t \t\t  \t \t \t\t\t  \t \n",
    "    return (testr, testc), reward  # return the new, legal location  \t\t  \t   \t\t  \t  \t\t\t  \t\t \t\t\t \t \t \t\t \t\t \t \t\t \t\t \t \t\t  \t \t \t\t\t  \t \n",
    "  \t\t  \t   \t\t  \t  \t\t\t  \t\t \t\t\t \t \t \t\t \t\t \t \t\t \t\t \t \t\t  \t \t \t\t\t  \t \n",
    "def discretize(pos):  \t\t  \t   \t\t  \t  \t\t\t  \t\t \t\t\t \t \t \t\t \t\t \t \t\t \t\t \t \t\t  \t \t \t\t\t  \t \n",
    "\t  \t   \t\t  \t  \t\t\t  \t\t \t\t\t \t \t \t\t \t\t \t \t\t \t\t \t \t\t  \t \t \t\t\t  \t \n",
    "    return pos[0] * 10 + pos[1]  \t\t  \t   \t\t  \t  \t\t\t  \t\t \t\t\t \t \t \t\t \t\t \t \t\t \t\t \t \t\t  \t \t \t\t\t  \t \n",
    "  \t\t  \t   \t\t  \t  \t\t\t"
   ]
  }
 ],
 "metadata": {
  "kernelspec": {
   "display_name": ".venv",
   "language": "python",
   "name": "python3"
  },
  "language_info": {
   "codemirror_mode": {
    "name": "ipython",
    "version": 3
   },
   "file_extension": ".py",
   "mimetype": "text/x-python",
   "name": "python",
   "nbconvert_exporter": "python",
   "pygments_lexer": "ipython3",
   "version": "3.6.8"
  },
  "orig_nbformat": 4
 },
 "nbformat": 4,
 "nbformat_minor": 2
}
