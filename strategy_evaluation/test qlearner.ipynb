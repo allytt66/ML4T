{
 "cells": [
  {
   "cell_type": "code",
   "execution_count": 3,
   "metadata": {},
   "outputs": [],
   "source": [
    "import datetime as dt  \n",
    "import pandas as pd\n",
    "import datetime as dt  \t\n",
    "import numpy as np\t  \t   \t\t  \t  \t\t\t  \t\t \t\t\t \t \t \t\t \t\t \t \t\t \t\t \t \t\t  \t \t \t\t\t  \t \n",
    "import random  \t\t  \t   \t\t  \t  \t\t\t  \t\t \t\t\t \t \t \t\t \t\t \t \t\t \t\t \t \t\t  \t \t \t\t\t  \t \t  \t   \t\t  \t  \t\t\t  \t\t \t\t\t \t \t \t\t \t\t \t \t\t \t\t \t \t\t  \t \t \t\t\t  \t \n",
    "import pandas as pd  \t\t  \t   \t\t  \t  \t\t\t  \t\t \t\t\t \t \t \t\t \t\t \t \t\t \t\t \t \t\t  \t \t \t\t\t  \t \n",
    "import util as ut  \t\n",
    "import QLearner as ql \n",
    "import indicators as ind\n",
    "from marketsimcode import compute_portvals\n",
    "\n",
    "symbol=\"JPM\" \t\n",
    "\n",
    "hsd=dt.datetime(2003, 1, 1)\t\t  \t   \t\t  \t  \t\t\t  \t\t \t\t\t \t \t \t\t \t\t \t \t\t \t\t \t \t\t  \t \t \t\t\t  \t \n",
    "hed=dt.datetime(2007, 12, 31)\n",
    "\n",
    "sd=dt.datetime(2008, 1, 1)\t\t  \t   \t\t  \t  \t\t\t  \t\t \t\t\t \t \t \t\t \t\t \t \t\t \t\t \t \t\t  \t \t \t\t\t  \t \n",
    "ed=dt.datetime(2009, 12, 31)  \n",
    "\n",
    "tsd=dt.datetime(2010, 1, 1)\t\t  \t   \t\t  \t  \t\t\t  \t\t \t\t\t \t \t \t\t \t\t \t \t\t \t\t \t \t\t  \t \t \t\t\t  \t \n",
    "ted=dt.datetime(2011, 12, 31)  \n",
    "sv=100000 \t"
   ]
  },
  {
   "cell_type": "code",
   "execution_count": 4,
   "metadata": {},
   "outputs": [],
   "source": [
    "syms = [symbol]  \t\n",
    "hdates = pd.date_range(hsd, hed) \n",
    "dates = pd.date_range(sd, ed)  \t\n",
    "tdates = pd.date_range(tsd, ted)  \t"
   ]
  },
  {
   "cell_type": "code",
   "execution_count": 5,
   "metadata": {},
   "outputs": [],
   "source": [
    "hprices = ut.get_data(syms, hdates)[syms]\n",
    "prices= ut.get_data(syms, dates)[syms]\n",
    "tprices = ut.get_data(syms, tdates)[syms]\n",
    "\n",
    "hvol = ut.get_data(syms, hdates, colname='Volume')[syms]\n",
    "vol = ut.get_data(syms, dates, colname='Volume')[syms]\n",
    "tvol = ut.get_data(syms, tdates, colname='Volume')[syms]"
   ]
  },
  {
   "cell_type": "code",
   "execution_count": 6,
   "metadata": {},
   "outputs": [
    {
     "data": {
      "text/plain": [
       "2010-01-04    40.87\n",
       "2010-01-05    41.67\n",
       "2010-01-06    41.89\n",
       "2010-01-07    42.72\n",
       "2010-01-08    42.62\n",
       "Name: JPM, dtype: float64"
      ]
     },
     "execution_count": 6,
     "metadata": {},
     "output_type": "execute_result"
    }
   ],
   "source": [
    "tprices['JPM'].head()"
   ]
  },
  {
   "cell_type": "code",
   "execution_count": 44,
   "metadata": {},
   "outputs": [],
   "source": [
    "price_change = pd.DataFrame(prices['JPM']- prices['JPM'].shift(1))\n",
    "price_change = price_change.rename(columns={'JPM': 'pct_chg'})\n",
    "price_change = price_change.fillna(0)"
   ]
  },
  {
   "cell_type": "code",
   "execution_count": null,
   "metadata": {},
   "outputs": [],
   "source": [
    "tprice_change = pd.DataFrame(tprices['JPM']- tprices['JPM'].shift(1))\n",
    "tprice_change = tprice_change.rename(columns={'JPM': 'pct_chg'})\n",
    "tprice_change = tprice_change.fillna(0)"
   ]
  },
  {
   "cell_type": "code",
   "execution_count": 7,
   "metadata": {},
   "outputs": [
    {
     "data": {
      "text/html": [
       "<div>\n",
       "<style scoped>\n",
       "    .dataframe tbody tr th:only-of-type {\n",
       "        vertical-align: middle;\n",
       "    }\n",
       "\n",
       "    .dataframe tbody tr th {\n",
       "        vertical-align: top;\n",
       "    }\n",
       "\n",
       "    .dataframe thead th {\n",
       "        text-align: right;\n",
       "    }\n",
       "</style>\n",
       "<table border=\"1\" class=\"dataframe\">\n",
       "  <thead>\n",
       "    <tr style=\"text-align: right;\">\n",
       "      <th></th>\n",
       "      <th>JPM</th>\n",
       "    </tr>\n",
       "  </thead>\n",
       "  <tbody>\n",
       "    <tr>\n",
       "      <th>count</th>\n",
       "      <td>1258.000000</td>\n",
       "    </tr>\n",
       "    <tr>\n",
       "      <th>mean</th>\n",
       "      <td>33.311335</td>\n",
       "    </tr>\n",
       "    <tr>\n",
       "      <th>std</th>\n",
       "      <td>6.925326</td>\n",
       "    </tr>\n",
       "    <tr>\n",
       "      <th>min</th>\n",
       "      <td>15.850000</td>\n",
       "    </tr>\n",
       "    <tr>\n",
       "      <th>25%</th>\n",
       "      <td>29.022500</td>\n",
       "    </tr>\n",
       "    <tr>\n",
       "      <th>50%</th>\n",
       "      <td>31.920000</td>\n",
       "    </tr>\n",
       "    <tr>\n",
       "      <th>75%</th>\n",
       "      <td>39.627500</td>\n",
       "    </tr>\n",
       "    <tr>\n",
       "      <th>max</th>\n",
       "      <td>47.350000</td>\n",
       "    </tr>\n",
       "  </tbody>\n",
       "</table>\n",
       "</div>"
      ],
      "text/plain": [
       "               JPM\n",
       "count  1258.000000\n",
       "mean     33.311335\n",
       "std       6.925326\n",
       "min      15.850000\n",
       "25%      29.022500\n",
       "50%      31.920000\n",
       "75%      39.627500\n",
       "max      47.350000"
      ]
     },
     "execution_count": 7,
     "metadata": {},
     "output_type": "execute_result"
    }
   ],
   "source": [
    "price_range = hprices.describe()\n",
    "price_range"
   ]
  },
  {
   "cell_type": "code",
   "execution_count": 8,
   "metadata": {},
   "outputs": [
    {
     "data": {
      "text/html": [
       "<div>\n",
       "<style scoped>\n",
       "    .dataframe tbody tr th:only-of-type {\n",
       "        vertical-align: middle;\n",
       "    }\n",
       "\n",
       "    .dataframe tbody tr th {\n",
       "        vertical-align: top;\n",
       "    }\n",
       "\n",
       "    .dataframe thead th {\n",
       "        text-align: right;\n",
       "    }\n",
       "</style>\n",
       "<table border=\"1\" class=\"dataframe\">\n",
       "  <thead>\n",
       "    <tr style=\"text-align: right;\">\n",
       "      <th></th>\n",
       "      <th>JPM</th>\n",
       "    </tr>\n",
       "  </thead>\n",
       "  <tbody>\n",
       "    <tr>\n",
       "      <th>count</th>\n",
       "      <td>1.258000e+03</td>\n",
       "    </tr>\n",
       "    <tr>\n",
       "      <th>mean</th>\n",
       "      <td>1.187149e+07</td>\n",
       "    </tr>\n",
       "    <tr>\n",
       "      <th>std</th>\n",
       "      <td>6.359128e+06</td>\n",
       "    </tr>\n",
       "    <tr>\n",
       "      <th>min</th>\n",
       "      <td>1.347300e+06</td>\n",
       "    </tr>\n",
       "    <tr>\n",
       "      <th>25%</th>\n",
       "      <td>8.120175e+06</td>\n",
       "    </tr>\n",
       "    <tr>\n",
       "      <th>50%</th>\n",
       "      <td>1.023300e+07</td>\n",
       "    </tr>\n",
       "    <tr>\n",
       "      <th>75%</th>\n",
       "      <td>1.340410e+07</td>\n",
       "    </tr>\n",
       "    <tr>\n",
       "      <th>max</th>\n",
       "      <td>5.786990e+07</td>\n",
       "    </tr>\n",
       "  </tbody>\n",
       "</table>\n",
       "</div>"
      ],
      "text/plain": [
       "                JPM\n",
       "count  1.258000e+03\n",
       "mean   1.187149e+07\n",
       "std    6.359128e+06\n",
       "min    1.347300e+06\n",
       "25%    8.120175e+06\n",
       "50%    1.023300e+07\n",
       "75%    1.340410e+07\n",
       "max    5.786990e+07"
      ]
     },
     "execution_count": 8,
     "metadata": {},
     "output_type": "execute_result"
    }
   ],
   "source": [
    "vol_range = hvol.describe()\n",
    "vol_range"
   ]
  },
  {
   "cell_type": "code",
   "execution_count": 9,
   "metadata": {},
   "outputs": [],
   "source": [
    "price_thres =  [-np.inf, \n",
    "                price_range['JPM']['25%'], \n",
    "                price_range['JPM']['75%'],  \n",
    "                np.inf ]\n",
    "prices_state = pd.DataFrame(pd.cut(prices['JPM'], bins=price_thres, labels=[1,2,3]))"
   ]
  },
  {
   "cell_type": "code",
   "execution_count": 10,
   "metadata": {},
   "outputs": [
    {
     "data": {
      "text/html": [
       "<div>\n",
       "<style scoped>\n",
       "    .dataframe tbody tr th:only-of-type {\n",
       "        vertical-align: middle;\n",
       "    }\n",
       "\n",
       "    .dataframe tbody tr th {\n",
       "        vertical-align: top;\n",
       "    }\n",
       "\n",
       "    .dataframe thead th {\n",
       "        text-align: right;\n",
       "    }\n",
       "</style>\n",
       "<table border=\"1\" class=\"dataframe\">\n",
       "  <thead>\n",
       "    <tr style=\"text-align: right;\">\n",
       "      <th></th>\n",
       "      <th>price</th>\n",
       "    </tr>\n",
       "  </thead>\n",
       "  <tbody>\n",
       "    <tr>\n",
       "      <th>2008-01-02</th>\n",
       "      <td>2</td>\n",
       "    </tr>\n",
       "    <tr>\n",
       "      <th>2008-01-03</th>\n",
       "      <td>2</td>\n",
       "    </tr>\n",
       "    <tr>\n",
       "      <th>2008-01-04</th>\n",
       "      <td>2</td>\n",
       "    </tr>\n",
       "    <tr>\n",
       "      <th>2008-01-07</th>\n",
       "      <td>2</td>\n",
       "    </tr>\n",
       "    <tr>\n",
       "      <th>2008-01-08</th>\n",
       "      <td>2</td>\n",
       "    </tr>\n",
       "  </tbody>\n",
       "</table>\n",
       "</div>"
      ],
      "text/plain": [
       "           price\n",
       "2008-01-02     2\n",
       "2008-01-03     2\n",
       "2008-01-04     2\n",
       "2008-01-07     2\n",
       "2008-01-08     2"
      ]
     },
     "execution_count": 10,
     "metadata": {},
     "output_type": "execute_result"
    }
   ],
   "source": [
    "prices_state = prices_state.rename(columns={'JPM': 'price'})\n",
    "prices_state.head()"
   ]
  },
  {
   "cell_type": "code",
   "execution_count": 11,
   "metadata": {},
   "outputs": [],
   "source": [
    "vol_thres =  [-np.inf, \n",
    "                vol_range['JPM']['25%'], \n",
    "                vol_range['JPM']['75%'],  \n",
    "                np.inf ]\n",
    "vol_state = pd.DataFrame(pd.cut(vol['JPM'], bins=vol_thres, labels=[1,2,3]))"
   ]
  },
  {
   "cell_type": "code",
   "execution_count": 12,
   "metadata": {},
   "outputs": [
    {
     "data": {
      "text/html": [
       "<div>\n",
       "<style scoped>\n",
       "    .dataframe tbody tr th:only-of-type {\n",
       "        vertical-align: middle;\n",
       "    }\n",
       "\n",
       "    .dataframe tbody tr th {\n",
       "        vertical-align: top;\n",
       "    }\n",
       "\n",
       "    .dataframe thead th {\n",
       "        text-align: right;\n",
       "    }\n",
       "</style>\n",
       "<table border=\"1\" class=\"dataframe\">\n",
       "  <thead>\n",
       "    <tr style=\"text-align: right;\">\n",
       "      <th></th>\n",
       "      <th>vol</th>\n",
       "    </tr>\n",
       "  </thead>\n",
       "  <tbody>\n",
       "    <tr>\n",
       "      <th>2008-01-02</th>\n",
       "      <td>3</td>\n",
       "    </tr>\n",
       "    <tr>\n",
       "      <th>2008-01-03</th>\n",
       "      <td>3</td>\n",
       "    </tr>\n",
       "    <tr>\n",
       "      <th>2008-01-04</th>\n",
       "      <td>3</td>\n",
       "    </tr>\n",
       "    <tr>\n",
       "      <th>2008-01-07</th>\n",
       "      <td>3</td>\n",
       "    </tr>\n",
       "    <tr>\n",
       "      <th>2008-01-08</th>\n",
       "      <td>3</td>\n",
       "    </tr>\n",
       "  </tbody>\n",
       "</table>\n",
       "</div>"
      ],
      "text/plain": [
       "           vol\n",
       "2008-01-02   3\n",
       "2008-01-03   3\n",
       "2008-01-04   3\n",
       "2008-01-07   3\n",
       "2008-01-08   3"
      ]
     },
     "execution_count": 12,
     "metadata": {},
     "output_type": "execute_result"
    }
   ],
   "source": [
    "vol_state = vol_state.rename(columns={'JPM': 'vol'})\n",
    "vol_state.head()\n"
   ]
  },
  {
   "cell_type": "code",
   "execution_count": 51,
   "metadata": {},
   "outputs": [],
   "source": [
    "history = dt.timedelta(100)\n",
    "full_sd = sd - history\n",
    "df_price_full = ut.get_data([symbol], pd.date_range(full_sd, ed))\n",
    "df_price_full = df_price_full[syms]\n",
    "lookback = 60 #3 month trading frequency\n",
    "\n",
    "bbp = ind.bbp(sd, ed, lookback, df_price_full)"
   ]
  },
  {
   "cell_type": "code",
   "execution_count": 52,
   "metadata": {},
   "outputs": [],
   "source": [
    "bbp_thres = [-np.inf,0,1,np.inf]\n",
    "bbp_state = pd.DataFrame(pd.cut(bbp['bbp'], bins=bbp_thres, labels=[1,2,3])) "
   ]
  },
  {
   "cell_type": "code",
   "execution_count": 53,
   "metadata": {},
   "outputs": [
    {
     "data": {
      "text/html": [
       "<div>\n",
       "<style scoped>\n",
       "    .dataframe tbody tr th:only-of-type {\n",
       "        vertical-align: middle;\n",
       "    }\n",
       "\n",
       "    .dataframe tbody tr th {\n",
       "        vertical-align: top;\n",
       "    }\n",
       "\n",
       "    .dataframe thead th {\n",
       "        text-align: right;\n",
       "    }\n",
       "</style>\n",
       "<table border=\"1\" class=\"dataframe\">\n",
       "  <thead>\n",
       "    <tr style=\"text-align: right;\">\n",
       "      <th></th>\n",
       "      <th>bbp</th>\n",
       "    </tr>\n",
       "  </thead>\n",
       "  <tbody>\n",
       "    <tr>\n",
       "      <th>2008-01-02</th>\n",
       "      <td>2</td>\n",
       "    </tr>\n",
       "    <tr>\n",
       "      <th>2008-01-03</th>\n",
       "      <td>2</td>\n",
       "    </tr>\n",
       "    <tr>\n",
       "      <th>2008-01-04</th>\n",
       "      <td>2</td>\n",
       "    </tr>\n",
       "    <tr>\n",
       "      <th>2008-01-07</th>\n",
       "      <td>2</td>\n",
       "    </tr>\n",
       "    <tr>\n",
       "      <th>2008-01-08</th>\n",
       "      <td>1</td>\n",
       "    </tr>\n",
       "  </tbody>\n",
       "</table>\n",
       "</div>"
      ],
      "text/plain": [
       "           bbp\n",
       "2008-01-02   2\n",
       "2008-01-03   2\n",
       "2008-01-04   2\n",
       "2008-01-07   2\n",
       "2008-01-08   1"
      ]
     },
     "execution_count": 53,
     "metadata": {},
     "output_type": "execute_result"
    }
   ],
   "source": [
    "bbp_state.head()"
   ]
  },
  {
   "cell_type": "code",
   "execution_count": 54,
   "metadata": {},
   "outputs": [],
   "source": [
    "observations = pd.concat([prices_state, vol_state, bbp_state], axis=1)"
   ]
  },
  {
   "cell_type": "code",
   "execution_count": 55,
   "metadata": {},
   "outputs": [
    {
     "data": {
      "text/html": [
       "<div>\n",
       "<style scoped>\n",
       "    .dataframe tbody tr th:only-of-type {\n",
       "        vertical-align: middle;\n",
       "    }\n",
       "\n",
       "    .dataframe tbody tr th {\n",
       "        vertical-align: top;\n",
       "    }\n",
       "\n",
       "    .dataframe thead th {\n",
       "        text-align: right;\n",
       "    }\n",
       "</style>\n",
       "<table border=\"1\" class=\"dataframe\">\n",
       "  <thead>\n",
       "    <tr style=\"text-align: right;\">\n",
       "      <th></th>\n",
       "      <th>price</th>\n",
       "      <th>vol</th>\n",
       "      <th>bbp</th>\n",
       "    </tr>\n",
       "  </thead>\n",
       "  <tbody>\n",
       "    <tr>\n",
       "      <th>2008-01-02</th>\n",
       "      <td>2</td>\n",
       "      <td>3</td>\n",
       "      <td>2</td>\n",
       "    </tr>\n",
       "    <tr>\n",
       "      <th>2008-01-03</th>\n",
       "      <td>2</td>\n",
       "      <td>3</td>\n",
       "      <td>2</td>\n",
       "    </tr>\n",
       "    <tr>\n",
       "      <th>2008-01-04</th>\n",
       "      <td>2</td>\n",
       "      <td>3</td>\n",
       "      <td>2</td>\n",
       "    </tr>\n",
       "    <tr>\n",
       "      <th>2008-01-07</th>\n",
       "      <td>2</td>\n",
       "      <td>3</td>\n",
       "      <td>2</td>\n",
       "    </tr>\n",
       "    <tr>\n",
       "      <th>2008-01-08</th>\n",
       "      <td>2</td>\n",
       "      <td>3</td>\n",
       "      <td>1</td>\n",
       "    </tr>\n",
       "  </tbody>\n",
       "</table>\n",
       "</div>"
      ],
      "text/plain": [
       "           price vol bbp\n",
       "2008-01-02     2   3   2\n",
       "2008-01-03     2   3   2\n",
       "2008-01-04     2   3   2\n",
       "2008-01-07     2   3   2\n",
       "2008-01-08     2   3   1"
      ]
     },
     "execution_count": 55,
     "metadata": {},
     "output_type": "execute_result"
    }
   ],
   "source": [
    "observations.head()"
   ]
  },
  {
   "cell_type": "code",
   "execution_count": 56,
   "metadata": {},
   "outputs": [
    {
     "data": {
      "text/plain": [
       "2"
      ]
     },
     "execution_count": 56,
     "metadata": {},
     "output_type": "execute_result"
    }
   ],
   "source": [
    "observations.iloc[0]['bbp']"
   ]
  },
  {
   "cell_type": "code",
   "execution_count": 57,
   "metadata": {},
   "outputs": [],
   "source": [
    "def convert_state(row): \n",
    "    return (row['price'] - 1) * 9 + (row['vol'] -1) * 3 + (row['bbp'] - 1)"
   ]
  },
  {
   "cell_type": "code",
   "execution_count": 58,
   "metadata": {},
   "outputs": [],
   "source": [
    "state = pd.DataFrame(observations.apply(convert_state, axis=1))"
   ]
  },
  {
   "cell_type": "code",
   "execution_count": 59,
   "metadata": {},
   "outputs": [
    {
     "data": {
      "text/html": [
       "<div>\n",
       "<style scoped>\n",
       "    .dataframe tbody tr th:only-of-type {\n",
       "        vertical-align: middle;\n",
       "    }\n",
       "\n",
       "    .dataframe tbody tr th {\n",
       "        vertical-align: top;\n",
       "    }\n",
       "\n",
       "    .dataframe thead th {\n",
       "        text-align: right;\n",
       "    }\n",
       "</style>\n",
       "<table border=\"1\" class=\"dataframe\">\n",
       "  <thead>\n",
       "    <tr style=\"text-align: right;\">\n",
       "      <th></th>\n",
       "      <th>0</th>\n",
       "    </tr>\n",
       "  </thead>\n",
       "  <tbody>\n",
       "    <tr>\n",
       "      <th>count</th>\n",
       "      <td>505.000000</td>\n",
       "    </tr>\n",
       "    <tr>\n",
       "      <th>mean</th>\n",
       "      <td>17.057426</td>\n",
       "    </tr>\n",
       "    <tr>\n",
       "      <th>std</th>\n",
       "      <td>6.143027</td>\n",
       "    </tr>\n",
       "    <tr>\n",
       "      <th>min</th>\n",
       "      <td>4.000000</td>\n",
       "    </tr>\n",
       "    <tr>\n",
       "      <th>25%</th>\n",
       "      <td>16.000000</td>\n",
       "    </tr>\n",
       "    <tr>\n",
       "      <th>50%</th>\n",
       "      <td>16.000000</td>\n",
       "    </tr>\n",
       "    <tr>\n",
       "      <th>75%</th>\n",
       "      <td>25.000000</td>\n",
       "    </tr>\n",
       "    <tr>\n",
       "      <th>max</th>\n",
       "      <td>26.000000</td>\n",
       "    </tr>\n",
       "  </tbody>\n",
       "</table>\n",
       "</div>"
      ],
      "text/plain": [
       "                0\n",
       "count  505.000000\n",
       "mean    17.057426\n",
       "std      6.143027\n",
       "min      4.000000\n",
       "25%     16.000000\n",
       "50%     16.000000\n",
       "75%     25.000000\n",
       "max     26.000000"
      ]
     },
     "execution_count": 59,
     "metadata": {},
     "output_type": "execute_result"
    }
   ],
   "source": [
    "state.describe()"
   ]
  },
  {
   "cell_type": "code",
   "execution_count": 60,
   "metadata": {},
   "outputs": [],
   "source": [
    "state_price= pd.concat([state, price_change], axis=1).rename(columns={0: \"state\"})"
   ]
  },
  {
   "cell_type": "code",
   "execution_count": 78,
   "metadata": {},
   "outputs": [],
   "source": [
    "def get_reward(price_change, oldpos, a): \n",
    "\n",
    "    \"\"\"\n",
    "    price_change: daily price change \n",
    "    oldposition can be \n",
    "    1000 share long \n",
    "    1000 shares short\n",
    "    0 shares \n",
    "    daily return while action is 0,1,2 correspod to \n",
    "    a = -1 short 1000 0,\n",
    "    a = 0 hold cash 1,\n",
    "    a = 1 long 1000 2\n",
    "    return new position, and reward \n",
    "    \"\"\"\n",
    "    target_shares = (a - 1)* 1000 \n",
    "    reward = (target_shares - oldpos) * price_change\n",
    "    return target_shares, reward"
   ]
  },
  {
   "cell_type": "code",
   "execution_count": 79,
   "metadata": {},
   "outputs": [],
   "source": [
    "def train(state_price, epochs, learner, verbose): \n",
    "\n",
    "    startpos = 0\n",
    "    scores = np.zeros((epochs, 1))\n",
    "    for epoch in range(1, epochs + 1): \n",
    "        total_reward = 0 \n",
    "        data = state_price.copy()\n",
    "        oldpos = startpos \n",
    "\n",
    "        i = 0 \n",
    "        while i < len(state_price): \n",
    "            \n",
    "            state = int(data.iloc[i]['state'])\n",
    "\n",
    "            if i == 0: \n",
    "                action = learner.querysetstate(state) # action for first trading day \n",
    "            else: \n",
    "                action = learner.query(state, reward)\n",
    "            newpos, reward = get_reward(state_price.iloc[i]['pct_chg'], oldpos, action)\n",
    "            oldpos = newpos\n",
    "\n",
    "            if verbose: \n",
    "                print(i)\n",
    "                print(f\"action = {action}\")\t\n",
    "                print(f\"state = {state}\")\t\n",
    "                print(f\"reward = {reward}\")\n",
    "            \n",
    "            total_reward += reward\n",
    "            i += 1 \n",
    "\n",
    "        scores[epoch - 1, 0] = total_reward\n",
    "    return np.median(scores)"
   ]
  },
  {
   "cell_type": "code",
   "execution_count": null,
   "metadata": {},
   "outputs": [],
   "source": [
    "def test(state_price, learner, verbose): \n",
    "\n",
    "    startpos = 0\n",
    "\n",
    "    total_reward = 0 \n",
    "    data = state_price.copy()\n",
    "    oldpos = startpos \n",
    "\n",
    "    i = 0 \n",
    "    while i < len(state_price): \n",
    "        \n",
    "        state = int(data.iloc[i]['state'])\n",
    "        action = learner.test_action(state)\n",
    "        newpos, reward = get_reward(state_price.iloc[i]['pct_chg'], oldpos, action)\n",
    "        oldpos = newpos\n",
    "\n",
    "        if verbose: \n",
    "            print(i)\n",
    "            print(f\"action = {action}\")\t\n",
    "            print(f\"state = {state}\")\t\n",
    "            print(f\"reward = {reward}\")\n",
    "        \n",
    "        total_reward += reward\n",
    "        i += 1 \n",
    "\n",
    "    return total_reward"
   ]
  },
  {
   "cell_type": "code",
   "execution_count": 80,
   "metadata": {},
   "outputs": [],
   "source": [
    "import random as rand \n",
    "def test_code(state_price): \n",
    "\n",
    "    data = state_price\n",
    "    rand.seed(903862041)\n",
    "\n",
    "    learner = ql.QLearner(\n",
    "        num_states=27, \n",
    "        num_actions=3, \n",
    "        alpha=0.2, \n",
    "        gamma = 0.9, \n",
    "        rar = 0.5,\n",
    "        radr = 0.99, \n",
    "        dyna = 200,\n",
    "        verbose= False\n",
    "    )\n",
    "\n",
    "    epochs = 50\n",
    "    total_reward = test(state_price, epochs, learner, verbose=False)\n",
    "    print(f\"dyna_score : {total_reward}\") "
   ]
  },
  {
   "cell_type": "code",
   "execution_count": 81,
   "metadata": {},
   "outputs": [
    {
     "name": "stdout",
     "output_type": "stream",
     "text": [
      "dyna_score : 71680.00000000007\n"
     ]
    }
   ],
   "source": [
    "test_code(state_price)"
   ]
  },
  {
   "cell_type": "code",
   "execution_count": 1,
   "metadata": {},
   "outputs": [
    {
     "ename": "NameError",
     "evalue": "name 'ql' is not defined",
     "output_type": "error",
     "traceback": [
      "\u001b[0;31m---------------------------------------------------------------------------\u001b[0m",
      "\u001b[0;31mNameError\u001b[0m                                 Traceback (most recent call last)",
      "\u001b[0;32m<ipython-input-1-5e2088d07e68>\u001b[0m in \u001b[0;36m<module>\u001b[0;34m\u001b[0m\n\u001b[1;32m      1\u001b[0m \u001b[0;32mimport\u001b[0m \u001b[0mimportlib\u001b[0m\u001b[0;34m\u001b[0m\u001b[0;34m\u001b[0m\u001b[0m\n\u001b[0;32m----> 2\u001b[0;31m \u001b[0mimportlib\u001b[0m\u001b[0;34m.\u001b[0m\u001b[0mreload\u001b[0m\u001b[0;34m(\u001b[0m\u001b[0mql\u001b[0m\u001b[0;34m)\u001b[0m\u001b[0;34m\u001b[0m\u001b[0;34m\u001b[0m\u001b[0m\n\u001b[0m",
      "\u001b[0;31mNameError\u001b[0m: name 'ql' is not defined"
     ]
    }
   ],
   "source": [
    "import importlib\n",
    "importlib.reload(ql)"
   ]
  },
  {
   "cell_type": "code",
   "execution_count": 1,
   "metadata": {},
   "outputs": [
    {
     "ename": "AttributeError",
     "evalue": "'list' object has no attribute 'plot'",
     "output_type": "error",
     "traceback": [
      "\u001b[0;31m---------------------------------------------------------------------------\u001b[0m",
      "\u001b[0;31mAttributeError\u001b[0m                            Traceback (most recent call last)",
      "\u001b[0;32m<ipython-input-1-e47617e218e0>\u001b[0m in \u001b[0;36m<module>\u001b[0;34m\u001b[0m\n\u001b[1;32m      1\u001b[0m \u001b[0mlist\u001b[0m \u001b[0;34m=\u001b[0m \u001b[0;34m[\u001b[0m\u001b[0;36m1\u001b[0m\u001b[0;34m,\u001b[0m\u001b[0;36m2\u001b[0m\u001b[0;34m,\u001b[0m\u001b[0;36m3\u001b[0m\u001b[0;34m]\u001b[0m\u001b[0;34m\u001b[0m\u001b[0;34m\u001b[0m\u001b[0m\n\u001b[0;32m----> 2\u001b[0;31m \u001b[0mlist\u001b[0m\u001b[0;34m.\u001b[0m\u001b[0mplot\u001b[0m\u001b[0;34m(\u001b[0m\u001b[0;34m)\u001b[0m\u001b[0;34m\u001b[0m\u001b[0;34m\u001b[0m\u001b[0m\n\u001b[0m",
      "\u001b[0;31mAttributeError\u001b[0m: 'list' object has no attribute 'plot'"
     ]
    }
   ],
   "source": [
    "list = [1,2,3]\n",
    "plt.plot(list)"
   ]
  },
  {
   "cell_type": "code",
   "execution_count": null,
   "metadata": {},
   "outputs": [],
   "source": []
  }
 ],
 "metadata": {
  "kernelspec": {
   "display_name": ".venv",
   "language": "python",
   "name": "python3"
  },
  "language_info": {
   "codemirror_mode": {
    "name": "ipython",
    "version": 3
   },
   "file_extension": ".py",
   "mimetype": "text/x-python",
   "name": "python",
   "nbconvert_exporter": "python",
   "pygments_lexer": "ipython3",
   "version": "3.6.8"
  },
  "orig_nbformat": 4
 },
 "nbformat": 4,
 "nbformat_minor": 2
}
