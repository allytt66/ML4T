{
 "cells": [
  {
   "cell_type": "code",
   "execution_count": 1,
   "metadata": {},
   "outputs": [],
   "source": [
    "import math  \t\t  \t   \t\t  \t  \t\t\t  \t\t \t\t\t \t \t \t\t \t\t \t \t\t \t\t \t \t\t  \t \t \t\t\t  \t \n",
    "import os  \t\t  \t   \t\t  \t  \t\t\t  \t\t \t\t\t \t \t \t\t \t\t \t \t\t \t\t \t \t\t  \t \t \t\t\t  \t \n",
    "import random  \t\t  \t   \t\t  \t  \t\t\t  \t\t \t\t\t \t \t \t\t \t\t \t \t\t \t\t \t \t\t  \t \t \t\t\t  \t \n",
    "import string  \t\t  \t   \t\t  \t  \t\t\t  \t\t \t\t\t \t \t \t\t \t\t \t \t\t \t\t \t \t\t  \t \t \t\t\t  \t \n",
    "import sys  \t\t  \t   \t\t  \t  \t\t\t  \t\t \t\t\t \t \t \t\t \t\t \t \t\t \t\t \t \t\t  \t \t \t\t\t  \t \n",
    "import time  \t\t  \t   \t\t  \t  \t\t\t  \t\t \t\t\t \t \t \t\t \t\t \t \t\t \t\t \t \t\t  \t \t \t\t\t  \t \n",
    "import traceback as tb  \t\t  \t   \t\t  \t  \t\t\t  \t\t \t\t\t \t \t \t\t \t\t \t \t\t \t\t \t \t\t  \t \t \t\t\t  \t \n",
    "from collections import namedtuple  \t\t  \t   \t\t  \t  \t\t\t  \t\t \t\t\t \t \t \t\t \t\t \t \t\t \t\t \t \t\t  \t \t \t\t\t  \t \n",
    "  \t\t  \t   \t\t  \t  \t\t\t  \t\t \t\t\t \t \t \t\t \t\t \t \t\t \t\t \t \t\t  \t \t \t\t\t  \t \n",
    "import numpy as np  \t\t  \t   \t\t  \t  \t\t\t  \t\t \t\t\t \t \t \t\t \t\t \t \t\t \t\t \t \t\t  \t \t \t\t\t  \t \n",
    "  \t\t  \t   \t\t  \t  \t\t\t  \t\t \t\t\t \t \t \t\t \t\t \t \t\t \t\t \t \t\t  \t \t \t\t\t  \t \n",
    "import pandas as pd  \t\t  \t   \t\t  \t  \t\t\t  \t\t \t\t\t \t \t \t\t \t\t \t \t\t \t\t \t \t\t  \t \t \t\t\t  \t \n",
    "import pytest  \t\t  \t   \t\t  \t  \t\t\t  \t\t \t\t\t \t \t \t\t \t\t \t \t\t \t\t \t \t\t  \t \t \t\t\t  \t \n",
    "import util  \t\t  \t   \t\t  \t  \t\t\t  \t\t \t\t\t \t \t \t\t \t\t \t \t\t \t\t \t \t\t  \t \t \t\t\t  \t \n",
    "from grading.grading import (  \t\t  \t   \t\t  \t  \t\t\t  \t\t \t\t\t \t \t \t\t \t\t \t \t\t \t\t \t \t\t  \t \t \t\t\t  \t \n",
    "    GradeResult,  \t\t  \t   \t\t  \t  \t\t\t  \t\t \t\t\t \t \t \t\t \t\t \t \t\t \t\t \t \t\t  \t \t \t\t\t  \t \n",
    "    IncorrectOutput,  \t\t  \t   \t\t  \t  \t\t\t  \t\t \t\t\t \t \t \t\t \t\t \t \t\t \t\t \t \t\t  \t \t \t\t\t  \t \n",
    "    grader,  \t\t  \t   \t\t  \t  \t\t\t  \t\t \t\t\t \t \t \t\t \t\t \t \t\t \t\t \t \t\t  \t \t \t\t\t  \t \n",
    "    run_with_timeout,  \t\t  \t   \t\t  \t  \t\t\t  \t\t \t\t\t \t \t \t\t \t\t \t \t\t \t\t \t \t\t  \t \t \t\t\t  \t \n",
    "    time_limit,  \t\t  \t   \t\t  \t  \t\t\t  \t\t \t\t\t \t \t \t\t \t\t \t \t\t \t\t \t \t\t  \t \t \t\t\t  \t \n",
    ")  \t\t  \t"
   ]
  },
  {
   "cell_type": "code",
   "execution_count": 43,
   "metadata": {},
   "outputs": [],
   "source": [
    "import math  \t\t  \t   \t\t  \t  \t\t\t  \t\t \t\t\t \t \t \t\t \t\t \t \t\t \t\t \t \t\t  \t \t \t\t\t  \t \n",
    "import sys  \t\t  \t   \t\t  \t  \t\t\t  \t\t \t\t\t \t \t \t\t \t\t \t \t\t \t\t \t \t\t  \t \t \t\t\t  \t \n",
    "  \t\t  \t   \t\t  \t  \t\t\t  \t\t \t\t\t \t \t \t\t \t\t \t \t\t \t\t \t \t\t  \t \t \t\t\t  \t \n",
    "import numpy as np  \n",
    "import LinRegLearner as lrl \n",
    "from DTLearner import DTLearner\n",
    "from RTLearner import RTLearner\t\n",
    "from BagLearner import BagLearner\n",
    "from InsaneLearner import InsaneLearner \n",
    "import matplotlib.pyplot as plt \n",
    "import time \n",
    "import sys "
   ]
  },
  {
   "cell_type": "code",
   "execution_count": 97,
   "metadata": {},
   "outputs": [],
   "source": [
    "test_x, test_y, train_x, train_y = None, None, None, None  \t\t  \t   \t\t  \t  \t\t\t  \t\t \t\t\t \t \t \t\t \t\t \t \t\t \t\t \t \t\t  \t \t \t\t\t  \t \n",
    "permutation = None  \t\t  \t   \t\t  \t  \t\t\t  \t\t \t\t\t \t \t \t\t \t\t \t \t\t \t\t \t \t\t  \t \t \t\t\t  \t \n",
    "author = None  \t\t  \n",
    "datafile = \"Istanbul.csv\"  \t\t  \t  \t\t\t  \t\t \t\t\t \t \t \t\t \t\t \t \t\t \t\t \t \t\t  \t \t \t\t\t  \t \n",
    "with util.get_learner_data_file(datafile) as f:  \t\t  \t   \t\t  \t  \t\t\t  \t\t \t\t\t \t \t \t\t \t\t \t \t\t \t\t \t \t\t  \t \t \t\t\t  \t \n",
    "    alldata = np.genfromtxt(f, delimiter=\",\")  \t\t  \t   \t\t  \t  \t\t\t  \t\t \t\t\t \t \t \t\t \t\t \t \t\t \t\t \t \t\t  \t \t \t\t\t  \t \n",
    "    # Skip the date column and header row if we're working on Istanbul data  \t\t  \t   \t\t  \t  \t\t\t  \t\t \t\t\t \t \t \t\t \t\t \t \t\t \t\t \t \t\t  \t \t \t\t\t  \t \n",
    "    if datafile == \"Istanbul.csv\":  \t\t  \t   \t\t  \t  \t\t\t  \t\t \t\t\t \t \t \t\t \t\t \t \t\t \t\t \t \t\t  \t \t \t\t\t  \t \n",
    "        alldata = alldata[1:, 1:]  \t\t  \t   \t\t  \t  \t\t\t  \t\t \t\t\t \t \t \t\t \t\t \t \t\t \t\t \t \t\t  \t \t \t\t\t  \t \n",
    "    datasize = alldata.shape[0]  \t\t  \t   \t\t  \t  \t\t\t  \t\t \t\t\t \t \t \t\t \t\t \t \t\t \t\t \t \t\t  \t \t \t\t\t  \t \n",
    "    cutoff = int(datasize * 0.6)  \t\t  \t   \t\t  \t  \t\t\t  \t\t \t\t\t \t \t \t\t \t\t \t \t\t \t\t \t \t\t  \t \t \t\t\t  \t \n",
    "    permutation = np.random.permutation(alldata.shape[0])  \t\t  \t   \t\t  \t  \t\t\t  \t\t \t\t\t \t \t \t\t \t\t \t \t\t \t\t \t \t\t  \t \t \t\t\t  \t \n",
    "    col_permutation = np.random.permutation(alldata.shape[1] - 1)  \t\t  \t   \t\t  \t  \t\t\t  \t\t \t\t\t \t \t \t\t \t\t \t \t\t \t\t \t \t\t  \t \t \t\t\t  \t \n",
    "    train_data = alldata[permutation[:cutoff], :]  \t\t  \t   \t\t  \t  \t\t\t  \t\t \t\t\t \t \t \t\t \t\t \t \t\t \t\t \t \t\t  \t \t \t\t\t  \t \n",
    "    # train_x = train_data[:,:-1]  \t\t  \t   \t\t  \t  \t\t\t  \t\t \t\t\t \t \t \t\t \t\t \t \t\t \t\t \t \t\t  \t \t \t\t\t  \t \n",
    "    train_x = train_data[:, col_permutation]  \t\t  \t   \t\t  \t  \t\t\t  \t\t \t\t\t \t \t \t\t \t\t \t \t\t \t\t \t \t\t  \t \t \t\t\t  \t \n",
    "    train_y = train_data[:, -1]  \t\t  \t   \t\t  \t  \t\t\t  \t\t \t\t\t \t \t \t\t \t\t \t \t\t \t\t \t \t\t  \t \t \t\t\t  \t \n",
    "    test_data = alldata[permutation[cutoff:], :]  \t\t  \t   \t\t  \t  \t\t\t  \t\t \t\t\t \t \t \t\t \t\t \t \t\t \t\t \t \t\t  \t \t \t\t\t  \t \n",
    "    # test_x = test_data[:,:-1]  \t\t  \t   \t\t  \t  \t\t\t  \t\t \t\t\t \t \t \t\t \t\t \t \t\t \t\t \t \t\t  \t \t \t\t\t  \t \n",
    "    test_x = test_data[:, col_permutation]  \t\t  \t   \t\t  \t  \t\t\t  \t\t \t\t\t \t \t \t\t \t\t \t \t\t \t\t \t \t\t  \t \t \t\t\t  \t \n",
    "    test_y = test_data[:, -1]  \t"
   ]
  },
  {
   "cell_type": "code",
   "execution_count": 114,
   "metadata": {},
   "outputs": [],
   "source": [
    "def research_overfit(train_x, train_y, test_x, test_y, learner, plot_range=100): \n",
    "    in_sample_rmses = []\n",
    "    out_sample_rmses = []\n",
    "\n",
    "    for leaf_size in range(1, plot_range): \n",
    "        \n",
    "        if learner is DTLearner or learner is RTLearner:\n",
    "            learner_instance = learner(leaf_size)\n",
    "        if learner is BagLearner:\n",
    "            # learner_instance = learner(DTLearner,kwargs={\"leaf_size\": leaf_size}, bags=20, boost=False)\n",
    "            learner_instance = learner(RTLearner,kwargs={\"leaf_size\": leaf_size}, bags=2, boost=False)\n",
    "        \n",
    "        learner_instance.add_evidence(train_x, train_y)\n",
    "\n",
    "        in_sample_rmse = np.linalg.norm(learner_instance.query(train_x) - train_y) / np.sqrt(train_y.shape[0])\n",
    "        out_sample_rmse = np.linalg.norm(learner_instance.query(test_x) - test_y) / np.sqrt(test_y.shape[0])\n",
    "\n",
    "        in_sample_rmses.extend([in_sample_rmse])\n",
    "        out_sample_rmses.extend([out_sample_rmse])\n",
    "\n",
    "    return in_sample_rmses, out_sample_rmses"
   ]
  },
  {
   "cell_type": "code",
   "execution_count": 80,
   "metadata": {},
   "outputs": [],
   "source": [
    "learner = BagLearner"
   ]
  },
  {
   "cell_type": "code",
   "execution_count": null,
   "metadata": {},
   "outputs": [],
   "source": []
  },
  {
   "cell_type": "code",
   "execution_count": 115,
   "metadata": {},
   "outputs": [],
   "source": [
    "in_s_rt, out_s_rt = research_overfit(train_x, train_y, test_x, test_y, learner)\n"
   ]
  },
  {
   "cell_type": "code",
   "execution_count": 118,
   "metadata": {},
   "outputs": [
    {
     "name": "stderr",
     "output_type": "stream",
     "text": [
      "/Users/Ally.Zhang/Documents/VS Code/.venv/lib/python3.6/site-packages/numpy/lib/function_base.py:2530: RuntimeWarning: invalid value encountered in true_divide\n",
      "  c /= stddev[:, None]\n",
      "/Users/Ally.Zhang/Documents/VS Code/.venv/lib/python3.6/site-packages/numpy/lib/function_base.py:2531: RuntimeWarning: invalid value encountered in true_divide\n",
      "  c /= stddev[None, :]\n"
     ]
    }
   ],
   "source": [
    "in_s_dt, out_s_dt = research_overfit(train_x, train_y, test_x, test_y, learner_dt)"
   ]
  },
  {
   "cell_type": "code",
   "execution_count": 117,
   "metadata": {},
   "outputs": [],
   "source": [
    "learner_dt = DTLearner"
   ]
  },
  {
   "cell_type": "code",
   "execution_count": 122,
   "metadata": {},
   "outputs": [],
   "source": [
    "def gen_plot(in_sample_rmses, out_sample_rmses, title, data_x=\"in_sample\", data_y=\"out_sample\", x_label =\"leaf size\", y_label=\"rmse\",  x_axis = range(1, 100)): \n",
    "    plt.clf()\n",
    "    plt.plot(x_axis, in_sample_rmses, label = data_x)\n",
    "    plt.plot(x_axis, out_sample_rmses, label = data_y)\n",
    "    plt.title(title)\n",
    "    plt.xlabel(x_label)\n",
    "    plt.ylabel(y_label)\n",
    "    # plt.xticks(np.arange(5, 100, step=5))\n",
    "    plt.grid()\n",
    "    plt.legend()\n",
    "    plt.savefig(f'images/{title}.png')\t\t"
   ]
  },
  {
   "cell_type": "code",
   "execution_count": 125,
   "metadata": {},
   "outputs": [
    {
     "data": {
      "image/png": "[encoded data removed]",
      "text/plain": [
       "<Figure size 432x288 with 1 Axes>"
      ]
     },
     "metadata": {
      "needs_background": "light"
     },
     "output_type": "display_data"
    }
   ],
   "source": [
    "gen_plot(out_s_dt, out_s_rt, data_x = \"dtlearner\", data_y=\"2 rtlearners\", title = \"dt vs 2 rt\")"
   ]
  },
  {
   "cell_type": "code",
   "execution_count": 34,
   "metadata": {},
   "outputs": [
    {
     "data": {
      "text/plain": [
       "3"
      ]
     },
     "execution_count": 34,
     "metadata": {},
     "output_type": "execute_result"
    }
   ],
   "source": [
    "np.argmin(out_s)"
   ]
  },
  {
   "cell_type": "code",
   "execution_count": 109,
   "metadata": {},
   "outputs": [
    {
     "data": {
      "text/plain": [
       "321"
      ]
     },
     "execution_count": 109,
     "metadata": {},
     "output_type": "execute_result"
    }
   ],
   "source": [
    " train_x.shape[0]"
   ]
  },
  {
   "cell_type": "code",
   "execution_count": 110,
   "metadata": {},
   "outputs": [],
   "source": [
    "def research_runtime(train_x, train_y): \n",
    "\n",
    "    runtime_dts_train = []\n",
    "    runtime_rts_train = []\n",
    "    runtime_dts_query = []\n",
    "    runtime_rts_query = []\n",
    "\n",
    "    for sample_size in range(10, train_x.shape[0], 10): \n",
    "        sample_x = train_x[:sample_size]\n",
    "        sample_y = train_y[:sample_size]\n",
    "\n",
    "        learner = DTLearner(leaf_size=1)\n",
    "        start = time.time()\n",
    "        learner.add_evidence(train_x, train_y)\n",
    "        end = time.time()\n",
    "        runtime_dts_train.extend([end-start])\n",
    "\n",
    "        start = time.time()\n",
    "        learner.query(test_x)\n",
    "        end = time.time()\n",
    "\n",
    "        learner = RTLearner(leaf_size=1)\n",
    "        start = time.time()\n",
    "        learner.add_evidence(train_x, train_y)\n",
    "        end = time.time()\n",
    "        runtime_rts_train.extend([end-start])\n",
    "\n",
    "    return runtime_dts, runtime_rts"
   ]
  },
  {
   "cell_type": "code",
   "execution_count": 112,
   "metadata": {},
   "outputs": [],
   "source": [
    "runtime_dt, runtime_rt = research_runtime(train_x, train_y)"
   ]
  },
  {
   "cell_type": "code",
   "execution_count": 103,
   "metadata": {},
   "outputs": [],
   "source": [
    "def gen_plot(in_sample_rmses, out_sample_rmses, title, data_x=\"in_sample\", data_y=\"out_sample\", x_label =\"leaf size\", y_label=\"rmse\",  x_axis = range(1, 100)): \n",
    "    plt.clf()\n",
    "    plt.plot(x_axis, in_sample_rmses, label = data_x)\n",
    "    plt.plot(x_axis, out_sample_rmses, label = data_y)\n",
    "    plt.title(title)\n",
    "    plt.xlabel(x_label)\n",
    "    plt.ylabel(y_label)\n",
    "    plt.grid()\n",
    "    plt.legend()\n",
    "    plt.savefig(f'images/{title}.png')"
   ]
  },
  {
   "cell_type": "code",
   "execution_count": 113,
   "metadata": {},
   "outputs": [
    {
     "data": {
      "image/png": "[encoded data removed]",
      "text/plain": [
       "<Figure size 432x288 with 1 Axes>"
      ]
     },
     "metadata": {
      "needs_background": "light"
     },
     "output_type": "display_data"
    }
   ],
   "source": [
    "gen_plot(runtime_dt, runtime_rt, title= \"dt vs rt run time comparison\", data_x=\"DTLearner\", data_y=\"RTLearner\", x_label=\"training size\", y_label=\"time\", x_axis=range(10, train_x.shape[0], 10))\t"
   ]
  },
  {
   "cell_type": "code",
   "execution_count": 126,
   "metadata": {},
   "outputs": [
    {
     "data": {
      "text/plain": [
       "array([6, 9, 9, 2, 9, 9, 2, 4, 2, 1])"
      ]
     },
     "execution_count": 126,
     "metadata": {},
     "output_type": "execute_result"
    }
   ],
   "source": [
    " np.random.choice(range(10), 10, replace= True)"
   ]
  },
  {
   "cell_type": "code",
   "execution_count": 127,
   "metadata": {},
   "outputs": [
    {
     "data": {
      "text/plain": [
       "array([[0.29469642, 0.16577125, 0.88537268, 0.39245326, 0.7047727 ,\n",
       "        0.70291353],\n",
       "       [0.06462217, 0.8498849 , 0.81376325, 0.63069019, 0.51983638,\n",
       "        0.94125387],\n",
       "       [0.73754216, 0.7447532 , 0.31033038, 0.90244594, 0.32053915,\n",
       "        0.48914962],\n",
       "       [0.56389832, 0.2146111 , 0.78635818, 0.20976331, 0.9654384 ,\n",
       "        0.15368571],\n",
       "       [0.7168103 , 0.37030307, 0.13838971, 0.70609877, 0.23410564,\n",
       "        0.86419713],\n",
       "       [0.61595001, 0.25509448, 0.13424001, 0.24545181, 0.8545536 ,\n",
       "        0.3072136 ],\n",
       "       [0.95725144, 0.86744799, 0.05829273, 0.10238709, 0.3092251 ,\n",
       "        0.97692624],\n",
       "       [0.04773731, 0.85656784, 0.78856548, 0.21322453, 0.15222688,\n",
       "        0.20959384],\n",
       "       [0.93537858, 0.98863546, 0.91738196, 0.17882626, 0.34752796,\n",
       "        0.93752621],\n",
       "       [0.87505979, 0.85569058, 0.4098756 , 0.67921264, 0.0170296 ,\n",
       "        0.42399777],\n",
       "       [0.99238161, 0.7094943 , 0.38806168, 0.64393853, 0.43192632,\n",
       "        0.57103155],\n",
       "       [0.61498988, 0.31304808, 0.84341006, 0.26539143, 0.99303726,\n",
       "        0.95811582],\n",
       "       [0.50644207, 0.73649879, 0.16603072, 0.016671  , 0.10978849,\n",
       "        0.68970371],\n",
       "       [0.73281188, 0.34922899, 0.61906159, 0.67550623, 0.27270847,\n",
       "        0.37356791],\n",
       "       [0.17434776, 0.60119523, 0.94429976, 0.81731658, 0.13304345,\n",
       "        0.04072878],\n",
       "       [0.61420959, 0.75593924, 0.49907541, 0.72686113, 0.83973682,\n",
       "        0.29801901],\n",
       "       [0.08184444, 0.52297864, 0.46545158, 0.31111052, 0.1496066 ,\n",
       "        0.60371366],\n",
       "       [0.27111676, 0.96179504, 0.90712713, 0.78849058, 0.88344835,\n",
       "        0.07123227],\n",
       "       [0.90541662, 0.66054054, 0.27488971, 0.62622763, 0.18909471,\n",
       "        0.95898564],\n",
       "       [0.95529686, 0.45923219, 0.06597564, 0.97940187, 0.38819057,\n",
       "        0.26922685],\n",
       "       [0.05797203, 0.12146537, 0.6883048 , 0.97610339, 0.0794605 ,\n",
       "        0.02408981],\n",
       "       [0.9855496 , 0.71633047, 0.38397224, 0.12936782, 0.54131833,\n",
       "        0.40290163],\n",
       "       [0.06050774, 0.52810099, 0.92830575, 0.17808434, 0.14694622,\n",
       "        0.49153003],\n",
       "       [0.65896027, 0.01016751, 0.84703156, 0.66271034, 0.78110627,\n",
       "        0.72653266],\n",
       "       [0.16239628, 0.329307  , 0.30405593, 0.72943496, 0.19624911,\n",
       "        0.25142349],\n",
       "       [0.30381646, 0.9683391 , 0.05804669, 0.85230433, 0.05347284,\n",
       "        0.90783344],\n",
       "       [0.47914767, 0.59766566, 0.91825555, 0.67060892, 0.94947555,\n",
       "        0.6851345 ],\n",
       "       [0.63849272, 0.07634647, 0.31723377, 0.04428298, 0.36260164,\n",
       "        0.48855963],\n",
       "       [0.68421862, 0.40794356, 0.96784692, 0.01086196, 0.7120762 ,\n",
       "        0.72292407],\n",
       "       [0.31185521, 0.36113252, 0.46810923, 0.64035288, 0.85088812,\n",
       "        0.88819701],\n",
       "       [0.28207544, 0.41253644, 0.24435681, 0.54884139, 0.71883714,\n",
       "        0.64571545],\n",
       "       [0.72708721, 0.94906573, 0.18615472, 0.16121986, 0.84400126,\n",
       "        0.5548684 ],\n",
       "       [0.36185645, 0.9636495 , 0.57867831, 0.36992611, 0.55777385,\n",
       "        0.33199136],\n",
       "       [0.94969066, 0.37576968, 0.90968392, 0.27838248, 0.01723759,\n",
       "        0.99167641],\n",
       "       [0.19804348, 0.88948238, 0.34472858, 0.06619403, 0.4826856 ,\n",
       "        0.06218895],\n",
       "       [0.18164239, 0.15332442, 0.88972576, 0.36299601, 0.05616997,\n",
       "        0.312447  ],\n",
       "       [0.66039516, 0.24391712, 0.44336376, 0.99504355, 0.0459419 ,\n",
       "        0.74312167],\n",
       "       [0.97275271, 0.74105002, 0.25831801, 0.34850799, 0.34801695,\n",
       "        0.08200224],\n",
       "       [0.60179421, 0.27627151, 0.61808993, 0.79896643, 0.27585444,\n",
       "        0.49545415],\n",
       "       [0.69292186, 0.29811626, 0.90424176, 0.08289451, 0.85695493,\n",
       "        0.0937595 ],\n",
       "       [0.37630234, 0.23405806, 0.44099741, 0.42220232, 0.24132917,\n",
       "        0.60636565],\n",
       "       [0.93292086, 0.37452956, 0.17493409, 0.87880797, 0.79112817,\n",
       "        0.09838829],\n",
       "       [0.3308812 , 0.10481128, 0.39230777, 0.42399013, 0.06807466,\n",
       "        0.97205703],\n",
       "       [0.71448812, 0.88765494, 0.14778526, 0.33642783, 0.9526317 ,\n",
       "        0.05083229],\n",
       "       [0.95605323, 0.48826851, 0.40433249, 0.24277566, 0.25882848,\n",
       "        0.38440981],\n",
       "       [0.89621286, 0.72624829, 0.32656462, 0.43881967, 0.10979167,\n",
       "        0.89842526],\n",
       "       [0.46641548, 0.99497216, 0.15072842, 0.22729673, 0.80637271,\n",
       "        0.51249125],\n",
       "       [0.61357496, 0.88364582, 0.77492278, 0.20454019, 0.34367963,\n",
       "        0.75085661],\n",
       "       [0.16222799, 0.24219586, 0.73516392, 0.12438575, 0.56254354,\n",
       "        0.18338617],\n",
       "       [0.35854127, 0.00236289, 0.05576957, 0.09190029, 0.07601756,\n",
       "        0.7977849 ],\n",
       "       [0.92663645, 0.72005866, 0.45816511, 0.95210723, 0.98927235,\n",
       "        0.33235574],\n",
       "       [0.51738217, 0.49364034, 0.88299696, 0.78911615, 0.19965783,\n",
       "        0.01603199],\n",
       "       [0.22824978, 0.24110523, 0.68230664, 0.45858526, 0.72414187,\n",
       "        0.87294849],\n",
       "       [0.79368188, 0.45261201, 0.27586936, 0.28722176, 0.70476478,\n",
       "        0.98747915],\n",
       "       [0.81311878, 0.36822723, 0.65916819, 0.31898076, 0.70404004,\n",
       "        0.61369522],\n",
       "       [0.73992672, 0.64098513, 0.13231958, 0.5423554 , 0.22074548,\n",
       "        0.70955716],\n",
       "       [0.7484877 , 0.41625691, 0.92376748, 0.66450341, 0.62455818,\n",
       "        0.11309281],\n",
       "       [0.19344621, 0.42180271, 0.15170085, 0.31859755, 0.29248806,\n",
       "        0.85058163],\n",
       "       [0.05282156, 0.03567949, 0.18755855, 0.5391435 , 0.69074894,\n",
       "        0.55189567],\n",
       "       [0.23767551, 0.44798557, 0.76603507, 0.15040296, 0.68236271,\n",
       "        0.03284579],\n",
       "       [0.93226277, 0.52749227, 0.14371038, 0.68173454, 0.41729453,\n",
       "        0.61418844],\n",
       "       [0.57148574, 0.13452804, 0.198248  , 0.72611943, 0.9643187 ,\n",
       "        0.25480771],\n",
       "       [0.47494763, 0.72760779, 0.32179164, 0.37708816, 0.45904004,\n",
       "        0.108883  ],\n",
       "       [0.64846194, 0.98573624, 0.67616049, 0.75240485, 0.54793889,\n",
       "        0.712483  ],\n",
       "       [0.69799129, 0.80812638, 0.12042106, 0.12862067, 0.91955211,\n",
       "        0.27354758],\n",
       "       [0.77841288, 0.35578772, 0.25731456, 0.63809193, 0.49312061,\n",
       "        0.63177231],\n",
       "       [0.13805393, 0.35665286, 0.84117042, 0.3829035 , 0.04458873,\n",
       "        0.96557229],\n",
       "       [0.60339554, 0.76885708, 0.3560036 , 0.15779068, 0.23971008,\n",
       "        0.37926644],\n",
       "       [0.01855545, 0.85094736, 0.73088953, 0.86195974, 0.72843787,\n",
       "        0.61152979],\n",
       "       [0.48440779, 0.41687458, 0.85601229, 0.63739969, 0.93026213,\n",
       "        0.34352131],\n",
       "       [0.75361396, 0.85659078, 0.9394455 , 0.85013986, 0.90350846,\n",
       "        0.62495806],\n",
       "       [0.10567011, 0.62495387, 0.44417594, 0.37583687, 0.90719333,\n",
       "        0.21061709],\n",
       "       [0.472899  , 0.21412908, 0.15761937, 0.80306697, 0.09445288,\n",
       "        0.38974664],\n",
       "       [0.57447357, 0.51536035, 0.50338232, 0.57207802, 0.05086871,\n",
       "        0.01486422],\n",
       "       [0.04906387, 0.66315335, 0.07831586, 0.4326476 , 0.08460542,\n",
       "        0.83054611],\n",
       "       [0.01995707, 0.54231043, 0.26989916, 0.21880484, 0.94002976,\n",
       "        0.51019927],\n",
       "       [0.50844148, 0.35365047, 0.25426091, 0.44961803, 0.04693567,\n",
       "        0.21819446],\n",
       "       [0.94673031, 0.55055741, 0.01091955, 0.29516367, 0.11454714,\n",
       "        0.99728957],\n",
       "       [0.01078344, 0.30728796, 0.26434885, 0.06187327, 0.59016595,\n",
       "        0.84718214],\n",
       "       [0.72299173, 0.15171342, 0.31210364, 0.83217256, 0.98502276,\n",
       "        0.08435938],\n",
       "       [0.40492369, 0.51778352, 0.98335449, 0.58343051, 0.23425875,\n",
       "        0.64824031],\n",
       "       [0.72896567, 0.51194303, 0.82454776, 0.50542123, 0.07696001,\n",
       "        0.70530081],\n",
       "       [0.34479724, 0.49540117, 0.7197415 , 0.02276962, 0.99720395,\n",
       "        0.04309135],\n",
       "       [0.9722679 , 0.54774965, 0.32597369, 0.75643552, 0.6395036 ,\n",
       "        0.23927453],\n",
       "       [0.44929799, 0.07912181, 0.82641708, 0.93044417, 0.02033031,\n",
       "        0.33788889],\n",
       "       [0.37236959, 0.09858385, 0.33428521, 0.25738205, 0.33678358,\n",
       "        0.51362339],\n",
       "       [0.59477077, 0.5259392 , 0.97983212, 0.78763603, 0.41053856,\n",
       "        0.57146454],\n",
       "       [0.77834122, 0.65747868, 0.37106839, 0.76190868, 0.61852636,\n",
       "        0.88165783],\n",
       "       [0.93569151, 0.17952159, 0.48220682, 0.09690307, 0.90144271,\n",
       "        0.88528558],\n",
       "       [0.39001986, 0.82975723, 0.36414984, 0.35902144, 0.15957169,\n",
       "        0.43994635],\n",
       "       [0.89797488, 0.25736269, 0.62231977, 0.35796397, 0.57772209,\n",
       "        0.9813402 ],\n",
       "       [0.0646084 , 0.77936801, 0.35220972, 0.2709806 , 0.82286104,\n",
       "        0.75869558],\n",
       "       [0.63623492, 0.59258503, 0.96289021, 0.60671995, 0.45120675,\n",
       "        0.47573023],\n",
       "       [0.97092835, 0.70646404, 0.62226769, 0.63356934, 0.6346304 ,\n",
       "        0.42157474],\n",
       "       [0.04453491, 0.91466342, 0.38310498, 0.05251633, 0.12103475,\n",
       "        0.60626247],\n",
       "       [0.7130215 , 0.05918486, 0.9612692 , 0.45575129, 0.56471527,\n",
       "        0.94596814],\n",
       "       [0.14539127, 0.36078243, 0.14405665, 0.98042012, 0.7378025 ,\n",
       "        0.49882095],\n",
       "       [0.23667552, 0.34569746, 0.38194325, 0.39234247, 0.07455416,\n",
       "        0.34507634],\n",
       "       [0.83342299, 0.41161813, 0.91599017, 0.48904221, 0.57090626,\n",
       "        0.52599663],\n",
       "       [0.34402176, 0.0082611 , 0.21808098, 0.80808038, 0.58634424,\n",
       "        0.92470395]])"
      ]
     },
     "execution_count": 127,
     "metadata": {},
     "output_type": "execute_result"
    }
   ],
   "source": [
    "np.random.random(size=(100, 6))\t"
   ]
  },
  {
   "cell_type": "code",
   "execution_count": null,
   "metadata": {},
   "outputs": [],
   "source": []
  }
 ],
 "metadata": {
  "kernelspec": {
   "display_name": ".venv",
   "language": "python",
   "name": "python3"
  },
  "language_info": {
   "codemirror_mode": {
    "name": "ipython",
    "version": 3
   },
   "file_extension": ".py",
   "mimetype": "text/x-python",
   "name": "python",
   "nbconvert_exporter": "python",
   "pygments_lexer": "ipython3",
   "version": "3.6.8"
  },
  "orig_nbformat": 4
 },
 "nbformat": 4,
 "nbformat_minor": 2
}
